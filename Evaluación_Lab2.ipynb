{
  "cells": [
    {
      "cell_type": "markdown",
      "metadata": {
        "id": "view-in-github",
        "colab_type": "text"
      },
      "source": [
        "<a href=\"https://colab.research.google.com/github/Carolinsrainbow/UC_AnalisisRS/blob/main/Evaluacio%CC%81n_Lab2.ipynb\" target=\"_parent\"><img src=\"https://colab.research.google.com/assets/colab-badge.svg\" alt=\"Open In Colab\"/></a>"
      ]
    },
    {
      "cell_type": "markdown",
      "id": "2ea2a511",
      "metadata": {
        "deletable": false,
        "editable": false,
        "nbgrader": {
          "cell_type": "markdown",
          "checksum": "76b0caf5d0c246d7b4798a04df656234",
          "grade": false,
          "grade_id": "cell-4db57747249ac1e2",
          "locked": true,
          "schema_version": 3,
          "solution": false,
          "task": false
        },
        "id": "2ea2a511"
      },
      "source": [
        "# EJERCICIO 1\n",
        "\n",
        "El **grado promedio** de un grafo es una métrica fundamental que cuantifica la densidad de conexiones en la red. Representa el número medio de aristas conectadas a cada nodo. Se calcula mediante la siguiente fórmula:\n",
        "\n",
        "$$\\text{Grado Promedio} = \\frac{\\sum_{v \\in V} \\text{grado}(v)}{|V|}$$\n",
        "\n",
        "Donde:\n",
        "*   $\\sum_{v \\in V} \\text{grado}(v)$ es la suma de los grados de todos los nodos $v$ en el conjunto de nodos $V$.\n",
        "*   $|V|$ es el número total de nodos en el grafo.\n",
        "\n",
        "Una propiedad interesante es que el grado promedio también es igual a $\\frac{2|E|}{|V|}$ para grafos no dirigidos, donde $|E|$ es el número de aristas (basado en el *handshaking lemma*).\n",
        "\n",
        "Escriba una función llamada `av_degree` que cumpla con los siguientes requisitos:\n",
        "1.  Acepte un objeto grafo de NetworkX (`nx.Graph`) como argumento.\n",
        "2.  Calcule el grado de cada nodo en el grafo.\n",
        "3.  Sume los grados de todos los nodos.\n",
        "4.  Divida la suma total de los grados por el número total de nodos para obtener el grado promedio.\n",
        "5.  Devuelva el valor del grado promedio calculado (este valor puede ser un número de punto flotante).\n"
      ]
    },
    {
      "cell_type": "code",
      "execution_count": null,
      "id": "ae8dd5ca",
      "metadata": {
        "deletable": false,
        "nbgrader": {
          "cell_type": "code",
          "checksum": "a42d69cc55fbece173ccbb90b50a0156",
          "grade": false,
          "grade_id": "cell-5048a6c39ad744b4",
          "locked": false,
          "schema_version": 3,
          "solution": true,
          "task": false
        },
        "id": "ae8dd5ca"
      },
      "outputs": [],
      "source": [
        "import networkx as nx\n",
        "\n",
        "def av_degree(G: nx.Graph) -> float:\n",
        "    # your code here\n",
        "    raise NotImplementedError"
      ]
    },
    {
      "cell_type": "code",
      "execution_count": null,
      "id": "79b92b33",
      "metadata": {
        "deletable": false,
        "editable": false,
        "nbgrader": {
          "cell_type": "code",
          "checksum": "11745152467ef4a6c7e3958cb84a274e",
          "grade": true,
          "grade_id": "cell-ac46bb402fd764c5",
          "locked": true,
          "points": 1,
          "schema_version": 3,
          "solution": false,
          "task": false
        },
        "id": "79b92b33"
      },
      "outputs": [],
      "source": [
        "G = nx.Graph()\n",
        "\n",
        "G.add_edges_from([\n",
        "    (0, 1),\n",
        "     (0, 2),\n",
        "      (1, 3),\n",
        "       (1, 4),\n",
        "        (2, 5),\n",
        "         (2, 6)]\n",
        "    )\n",
        "nx.draw_networkx(G, with_labels=True)\n",
        "assert round((av_degree(G)),2) == 1.71\n"
      ]
    },
    {
      "cell_type": "markdown",
      "id": "d1a2829e",
      "metadata": {
        "deletable": false,
        "editable": false,
        "nbgrader": {
          "cell_type": "markdown",
          "checksum": "4fee4659e39e9e69144613b76e75211e",
          "grade": false,
          "grade_id": "cell-4bcf8fd0e240768b",
          "locked": true,
          "schema_version": 3,
          "solution": false,
          "task": false
        },
        "id": "d1a2829e"
      },
      "source": [
        "EJERCICIO 2\n",
        "\n",
        "En el análisis de grafos, a menudo es útil aislar y estudiar porciones específicas de una red más grande. Una forma común de hacerlo es seleccionando nodos basados en alguna propiedad intrínseca de sus identificadores.\n",
        "\n",
        "Para este ejercicio, consideraremos grafos cuyos nodos son identificables mediante números enteros. El objetivo es extraer un subgrafo que esté compuesto únicamente por aquellos nodos del grafo original cuyos identificadores sean números pares, junto con todas las aristas que conectan a estos nodos pares entre sí.\n",
        "\n",
        "Escriba una función llamada `pair_subgraph` que cumpla con los siguientes requisitos:\n",
        "1.  Acepte un objeto grafo de NetworkX (`nx.Graph` o `nx.DiGraph`) como argumento. Se asume que los identificadores de los nodos en este grafo son numéricos (por ejemplo, enteros), lo que permite la operación de paridad.\n",
        "2.  Itere sobre todos los nodos del grafo de entrada `G`.\n",
        "3.  Seleccione únicamente aquellos nodos cuyo identificador sea un número par (es decir, `nodo % 2 == 0`).\n",
        "4.  Genere un nuevo grafo que sea un subgrafo del grafo original `G`. Este subgrafo debe:\n",
        "    a.  Contener exclusivamente los nodos pares identificados.\n",
        "    b.  Incluir todas las aristas presentes en `G` que conecten cualquier par de estos nodos pares seleccionados.\n",
        "5.  La función debe devolver este nuevo subgrafo. El tipo del grafo devuelto (dirigido o no dirigido) debe coincidir con el del grafo de entrada.\n"
      ]
    },
    {
      "cell_type": "code",
      "execution_count": null,
      "id": "0985f715",
      "metadata": {
        "deletable": false,
        "nbgrader": {
          "cell_type": "code",
          "checksum": "bb8eece17251a68a7a363149b3a07eb7",
          "grade": false,
          "grade_id": "cell-28e63c71f2d3d3fc",
          "locked": false,
          "schema_version": 3,
          "solution": true,
          "task": false
        },
        "id": "0985f715"
      },
      "outputs": [],
      "source": [
        "def pair_subgraph(G: nx.Graph) -> nx.Graph:\n",
        "    # your code here\n",
        "    raise NotImplementedError"
      ]
    },
    {
      "cell_type": "code",
      "execution_count": null,
      "id": "096ed36b",
      "metadata": {
        "deletable": false,
        "editable": false,
        "nbgrader": {
          "cell_type": "code",
          "checksum": "c87171c8a6ff62cedc7ed5e5ee958b4a",
          "grade": true,
          "grade_id": "cell-0c859f70c6319e7f",
          "locked": true,
          "points": 1,
          "schema_version": 3,
          "solution": false,
          "task": false
        },
        "id": "096ed36b"
      },
      "outputs": [],
      "source": [
        "G = nx.Graph()\n",
        "\n",
        "G.add_edges_from([\n",
        "    (0, 1),\n",
        "     (0, 2),\n",
        "      (1, 3),\n",
        "       (1, 4),\n",
        "        (2, 5),\n",
        "         (2, 6)]\n",
        "    )\n",
        "G_f = nx.Graph()\n",
        "G_f.add_node(4)\n",
        "G_f.add_edges_from([\n",
        "     (0, 2),\n",
        "         (2, 6)]\n",
        "    )\n",
        "nx.draw_networkx(pair_subgraph(G), with_labels=True)\n",
        "assert pair_subgraph(G).nodes == G_f.nodes\n"
      ]
    }
  ],
  "metadata": {
    "kernelspec": {
      "display_name": "Python 3 (ipykernel)",
      "language": "python",
      "name": "python3"
    },
    "language_info": {
      "codemirror_mode": {
        "name": "ipython",
        "version": 3
      },
      "file_extension": ".py",
      "mimetype": "text/x-python",
      "name": "python",
      "nbconvert_exporter": "python",
      "pygments_lexer": "ipython3",
      "version": "3.10.6"
    },
    "colab": {
      "provenance": [],
      "include_colab_link": true
    }
  },
  "nbformat": 4,
  "nbformat_minor": 5
}