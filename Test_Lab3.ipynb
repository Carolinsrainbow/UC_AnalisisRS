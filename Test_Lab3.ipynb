{
  "cells": [
    {
      "cell_type": "markdown",
      "metadata": {
        "id": "view-in-github",
        "colab_type": "text"
      },
      "source": [
        "<a href=\"https://colab.research.google.com/github/Carolinsrainbow/UC_AnalisisRS/blob/main/Test_Lab3.ipynb\" target=\"_parent\"><img src=\"https://colab.research.google.com/assets/colab-badge.svg\" alt=\"Open In Colab\"/></a>"
      ]
    },
    {
      "cell_type": "markdown",
      "id": "15bfa5b4",
      "metadata": {
        "deletable": false,
        "editable": false,
        "nbgrader": {
          "cell_type": "markdown",
          "checksum": "e3717f4bdbc0978f2aab997d3571f6ac",
          "grade": false,
          "grade_id": "cell-5aa2736f5fa11d3c",
          "locked": true,
          "schema_version": 3,
          "solution": false,
          "task": false
        },
        "id": "15bfa5b4"
      },
      "source": [
        "# EJERCICIO 1\n",
        "\n",
        "Escriba una fución que verifique si existe un vuelo directo (es decir, una conexión sin escalas) entre el aeropuerto de Indianapolis (código IATA: IND) y el aeropuerto de Fairbanks, Alaska (código IATA: FAI) utilizando la red de vuelos de EE. UU. proporcionada.\n"
      ]
    },
    {
      "cell_type": "code",
      "execution_count": 7,
      "id": "d7ca6faf",
      "metadata": {
        "id": "d7ca6faf"
      },
      "outputs": [],
      "source": [
        "import requests\n",
        "import os\n",
        "import networkx as nx\n",
        "\n",
        "response = requests.get(\"https://github.com/CambridgeUniversityPress/FirstCourseNetworkScience/raw/master/datasets/openflights/openflights_usa.graphml.gz\")\n",
        "download_folder = os.getcwd()\n",
        "filename = 'openflights_usa.graphml.gz'\n",
        "with open(os.path.join(download_folder, filename), 'wb') as file:\n",
        "    file.write(response.content)\n",
        "G = nx.read_graphml(os.path.join(download_folder, filename))"
      ]
    },
    {
      "cell_type": "code",
      "execution_count": 10,
      "id": "8a01e4ca",
      "metadata": {
        "deletable": false,
        "nbgrader": {
          "cell_type": "code",
          "checksum": "0111ed4518982f1898a8f208caaeb9ab",
          "grade": false,
          "grade_id": "cell-6f834c76967a253f",
          "locked": false,
          "schema_version": 3,
          "solution": true,
          "task": false
        },
        "id": "8a01e4ca"
      },
      "outputs": [],
      "source": [
        "def check_direct_flight(G: nx.Graph, airport_code1: str, airport_code2: str) -> bool:\n",
        "    \"\"\"\n",
        "    Verifica si existe un vuelo directo (una arista) entre dos aeropuertos en el grafo.\n",
        "    \"\"\"\n",
        "    # your code here\n",
        "    return G.has_edge(airport_code1, airport_code2) or G.has_edge(airport_code2, airport_code1)\n",
        "    raise NotImplementedError\n",
        "\n",
        "assert check_direct_flight(G, 'IND', 'FAI') == G.has_edge('IND', 'FAI'), \"IND-FAI direct flight check failed\""
      ]
    },
    {
      "cell_type": "code",
      "source": [
        "print(check_direct_flight(G, 'IND', 'FAI'))\n"
      ],
      "metadata": {
        "colab": {
          "base_uri": "https://localhost:8080/"
        },
        "id": "4soy5ksdSbPD",
        "outputId": "4db5cdc1-d0f3-42eb-cc79-007a32a3cb13"
      },
      "id": "4soy5ksdSbPD",
      "execution_count": 11,
      "outputs": [
        {
          "output_type": "stream",
          "name": "stdout",
          "text": [
            "False\n"
          ]
        }
      ]
    },
    {
      "cell_type": "code",
      "execution_count": 11,
      "id": "83907c90",
      "metadata": {
        "deletable": false,
        "editable": false,
        "nbgrader": {
          "cell_type": "code",
          "checksum": "80f352e4c8cc0d4fa70d37590124c40a",
          "grade": true,
          "grade_id": "cell-746bd03218805c98",
          "locked": true,
          "points": 6,
          "schema_version": 3,
          "solution": false,
          "task": false
        },
        "id": "83907c90"
      },
      "outputs": [],
      "source": []
    },
    {
      "cell_type": "markdown",
      "id": "674f75b8",
      "metadata": {
        "deletable": false,
        "editable": false,
        "nbgrader": {
          "cell_type": "markdown",
          "checksum": "3e8e771b44bbbe0c7016a95f6003362e",
          "grade": false,
          "grade_id": "cell-6282e10c67b4095f",
          "locked": true,
          "schema_version": 3,
          "solution": false,
          "task": false
        },
        "id": "674f75b8"
      },
      "source": [
        "# EJERCICIO 2\n",
        "\n",
        "Escriba una función que determine la ruta con el menor número de vuelos (es decir, el camino más corto en términos de conexiones o escalas) para viajar desde el aeropuerto de Indianapolis (IND) al aeropuerto de Fairbanks (FAI).\n"
      ]
    },
    {
      "cell_type": "code",
      "execution_count": 12,
      "id": "c91143aa",
      "metadata": {
        "deletable": false,
        "nbgrader": {
          "cell_type": "code",
          "checksum": "c5e42b6b8ab274d526c498b1ed404974",
          "grade": false,
          "grade_id": "cell-53c5322efc5bcef1",
          "locked": false,
          "schema_version": 3,
          "solution": true,
          "task": false
        },
        "id": "c91143aa"
      },
      "outputs": [],
      "source": [
        "def find_shortest_route(G: nx.Graph, start_airport_code: str, end_airport_code: str) -> list:\n",
        "    \"\"\"\n",
        "    Encuentra la ruta más corta (en número de aristas) entre dos aeropuertos.\n",
        "    \"\"\"\n",
        "    # your code here\n",
        "    return nx.shortest_path(G, source=start_airport_code, target=end_airport_code)\n",
        "    raise NotImplementedError\n",
        "\n",
        "path_ind_fai = find_shortest_route(G, 'IND', 'FAI')\n",
        "assert isinstance(path_ind_fai, list), \"Path should be a list\""
      ]
    },
    {
      "cell_type": "code",
      "source": [
        "print(path_ind_fai)\n"
      ],
      "metadata": {
        "colab": {
          "base_uri": "https://localhost:8080/"
        },
        "id": "kqfKE_OXX-61",
        "outputId": "f583e91d-6701-41f2-8f9c-cb098736e0aa"
      },
      "id": "kqfKE_OXX-61",
      "execution_count": 13,
      "outputs": [
        {
          "output_type": "stream",
          "name": "stdout",
          "text": [
            "['IND', 'BOS', 'SEA', 'FAI']\n"
          ]
        }
      ]
    },
    {
      "cell_type": "code",
      "execution_count": 12,
      "id": "a4442616",
      "metadata": {
        "deletable": false,
        "editable": false,
        "nbgrader": {
          "cell_type": "code",
          "checksum": "b20d1ccfb8c565cf1d3f10a5a90bcc51",
          "grade": true,
          "grade_id": "cell-0c8b2537841de4b6",
          "locked": true,
          "points": 5,
          "schema_version": 3,
          "solution": false,
          "task": false
        },
        "id": "a4442616"
      },
      "outputs": [],
      "source": []
    },
    {
      "cell_type": "markdown",
      "id": "bbccb6e5",
      "metadata": {
        "deletable": false,
        "editable": false,
        "nbgrader": {
          "cell_type": "markdown",
          "checksum": "e553151b58b72754cc295d461334bc4c",
          "grade": false,
          "grade_id": "cell-035764f23ca6e1b0",
          "locked": true,
          "schema_version": 3,
          "solution": false,
          "task": false
        },
        "id": "bbccb6e5"
      },
      "source": [
        "# Ejercicio 3\n",
        "\n",
        "Escriba una función que evalúe si la red de aeropuertos de EE. UU. (representada por el grafo G) es conexa. En otras palabras, ¿es posible viajar entre cualquier par de aeropuertos en esta red, haciendo uso de una o más escalas si fuera necesario?\"\n"
      ]
    },
    {
      "cell_type": "code",
      "execution_count": 14,
      "id": "5b342a90",
      "metadata": {
        "deletable": false,
        "nbgrader": {
          "cell_type": "code",
          "checksum": "ac237801c60bf14dce12ff982890e31d",
          "grade": false,
          "grade_id": "cell-867097dd934f9249",
          "locked": false,
          "schema_version": 3,
          "solution": true,
          "task": false
        },
        "id": "5b342a90"
      },
      "outputs": [],
      "source": [
        "def check_network_connectivity(G: nx.Graph) -> bool:\n",
        "    \"\"\"\n",
        "    Verifica si el grafo dado es conexo.\n",
        "    \"\"\"\n",
        "    # your code here\n",
        "    return nx.is_connected(G)\n",
        "    raise NotImplementedError\n",
        "\n",
        "\n",
        "is_G_connected = check_network_connectivity(G)\n",
        "assert isinstance(is_G_connected, bool), \"Result should be a boolean\""
      ]
    },
    {
      "cell_type": "code",
      "execution_count": 14,
      "id": "6b414697",
      "metadata": {
        "deletable": false,
        "editable": false,
        "nbgrader": {
          "cell_type": "code",
          "checksum": "e3ebb1068d0987a179e571ea0031899f",
          "grade": true,
          "grade_id": "cell-402b2e427dd72f61",
          "locked": true,
          "points": 6,
          "schema_version": 3,
          "solution": false,
          "task": false
        },
        "id": "6b414697"
      },
      "outputs": [],
      "source": []
    }
  ],
  "metadata": {
    "kernelspec": {
      "display_name": "Python 3 (ipykernel)",
      "language": "python",
      "name": "python3"
    },
    "language_info": {
      "codemirror_mode": {
        "name": "ipython",
        "version": 3
      },
      "file_extension": ".py",
      "mimetype": "text/x-python",
      "name": "python",
      "nbconvert_exporter": "python",
      "pygments_lexer": "ipython3",
      "version": "3.10.6"
    },
    "colab": {
      "provenance": [],
      "include_colab_link": true
    }
  },
  "nbformat": 4,
  "nbformat_minor": 5
}