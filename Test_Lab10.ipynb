{
  "cells": [
    {
      "cell_type": "markdown",
      "metadata": {
        "id": "view-in-github",
        "colab_type": "text"
      },
      "source": [
        "<a href=\"https://colab.research.google.com/github/Carolinsrainbow/UC_AnalisisRS/blob/main/Test_Lab10.ipynb\" target=\"_parent\"><img src=\"https://colab.research.google.com/assets/colab-badge.svg\" alt=\"Open In Colab\"/></a>"
      ]
    },
    {
      "cell_type": "markdown",
      "id": "e2852b49",
      "metadata": {
        "deletable": false,
        "editable": false,
        "nbgrader": {
          "cell_type": "markdown",
          "checksum": "77a4e33083336f8f86d17ebda9788c30",
          "grade": false,
          "grade_id": "cell-6301e31f755c8890",
          "locked": true,
          "schema_version": 3,
          "solution": false,
          "task": false
        },
        "id": "e2852b49"
      },
      "source": [
        "# Ejercicio 1: Actualización de Etiqueta de un Nodo (Paso de Propagación de Etiquetas)\n",
        "\n",
        "**Contexto:**\n",
        "El algoritmo de propagación de etiquetas es un método para detectar comunidades en grafos. En cada paso, los nodos adoptan la etiqueta más frecuente entre sus vecinos.\n",
        "\n",
        "**Tu Tarea:**\n",
        "Implementa una función llamada `actualizar_etiqueta_nodo`. Esta función simulará un único paso de actualización para un nodo específico.\n",
        "\n",
        "La función recibirá:\n",
        "1.  Un grafo de NetworkX (`graph`).\n",
        "2.  Un diccionario de partición actual (`current_partition_map`) donde las claves son nodos y los valores son sus etiquetas de comunidad actuales.\n",
        "3.  El nodo específico (`node_to_update`) cuya etiqueta se va a determinar.\n",
        "\n",
        "La función deberá:\n",
        "*   Identificar las etiquetas de los vecinos del `node_to_update`.\n",
        "*   Encontrar la etiqueta más frecuente entre estos vecinos.\n",
        "*   Si hay un empate en la frecuencia de las etiquetas, se debe elegir una de las etiquetas empatadas de forma aleatoria.\n",
        "*   Devolver la etiqueta seleccionada para `node_to_update`.\n",
        "\n",
        "**Suposiciones:**\n",
        "*   El `node_to_update` tiene vecinos. Si no tuviera vecinos, puede devolver su etiqueta actual.\n",
        "*   La función `random.choice()` es útil para desempates."
      ]
    },
    {
      "cell_type": "code",
      "execution_count": 2,
      "id": "58ae4729",
      "metadata": {
        "deletable": false,
        "nbgrader": {
          "cell_type": "code",
          "checksum": "9e539cdbcfb88e10687feede4f4a15df",
          "grade": false,
          "grade_id": "cell-2722fb2cc84dfa7e",
          "locked": false,
          "schema_version": 3,
          "solution": true,
          "task": false
        },
        "id": "58ae4729"
      },
      "outputs": [],
      "source": [
        "import networkx as nx\n",
        "import random\n",
        "import numpy as np\n",
        "from typing import Dict, Any, Set, List, Tuple, Optional\n",
        "import math\n",
        "\n",
        "def actualizar_etiqueta_nodo(graph: nx.Graph, current_partition_map: Dict[Any, int], node_to_update: Any) -> int:\n",
        "    \"\"\"\n",
        "    Determina la nueva etiqueta para un nodo basada en la etiqueta más frecuente de sus vecinos.\n",
        "\n",
        "    Args:\n",
        "        graph: El grafo de NetworkX.\n",
        "        current_partition_map: Un diccionario {nodo: etiqueta_actual}.\n",
        "        node_to_update: El nodo cuya etiqueta se va a determinar.\n",
        "\n",
        "    Returns:\n",
        "        La nueva etiqueta seleccionada para el nodo.\n",
        "    \"\"\"\n",
        "    return random.choice([label for label, count in\n",
        "                          __import__('collections').Counter([current_partition_map[n] for n in graph.neighbors(node_to_update)]).items()\n",
        "                          if count == max(__import__('collections').Counter([current_partition_map[n] for n in graph.neighbors(node_to_update)]).values())]) \\\n",
        "           if list(graph.neighbors(node_to_update)) else current_partition_map[node_to_update]\n",
        "\n",
        "\n",
        "# Crear un grafo de prueba\n",
        "G_test1 = nx.Graph()\n",
        "G_test1.add_edges_from([(0,1), (0,2), (0,3), (1,2), (1,4), (2,4), (3,5)])\n",
        "partition_map_test1 = {0:10, 1:20, 2:10, 3:30, 4:20, 5:30}\n",
        "new_label_for_1 = actualizar_etiqueta_nodo(G_test1, partition_map_test1, 1)\n",
        "assert new_label_for_1 == 10, f\"Error para nodo 1. Esperado 10, obtenido {new_label_for_1}\"\n"
      ]
    },
    {
      "cell_type": "code",
      "execution_count": 2,
      "id": "7f8d5d1b",
      "metadata": {
        "deletable": false,
        "editable": false,
        "nbgrader": {
          "cell_type": "code",
          "checksum": "2f0d158cc8e410024e87457b8a059dee",
          "grade": true,
          "grade_id": "cell-0f42ea49bf2df843",
          "locked": true,
          "points": 3,
          "schema_version": 3,
          "solution": false,
          "task": false
        },
        "id": "7f8d5d1b"
      },
      "outputs": [],
      "source": []
    },
    {
      "cell_type": "code",
      "execution_count": 2,
      "id": "68811657",
      "metadata": {
        "deletable": false,
        "editable": false,
        "nbgrader": {
          "cell_type": "code",
          "checksum": "358436f9b955a778693393de3e70272f",
          "grade": true,
          "grade_id": "cell-f8c2412d9c9ae53a",
          "locked": true,
          "points": 1,
          "schema_version": 3,
          "solution": false,
          "task": false
        },
        "id": "68811657"
      },
      "outputs": [],
      "source": []
    },
    {
      "cell_type": "code",
      "execution_count": 2,
      "id": "8a26c718",
      "metadata": {
        "deletable": false,
        "editable": false,
        "nbgrader": {
          "cell_type": "code",
          "checksum": "e963a30da120df91fe3781748c61ca6a",
          "grade": true,
          "grade_id": "cell-a8da7d893b624e15",
          "locked": true,
          "points": 1,
          "schema_version": 3,
          "solution": false,
          "task": false
        },
        "id": "8a26c718"
      },
      "outputs": [],
      "source": []
    },
    {
      "cell_type": "code",
      "execution_count": 2,
      "id": "dcb448e5",
      "metadata": {
        "deletable": false,
        "editable": false,
        "nbgrader": {
          "cell_type": "code",
          "checksum": "f5f34bbefbd9fc977a25394243ba67ab",
          "grade": true,
          "grade_id": "cell-06637c14f4308a49",
          "locked": true,
          "points": 1,
          "schema_version": 3,
          "solution": false,
          "task": false
        },
        "id": "dcb448e5"
      },
      "outputs": [],
      "source": []
    },
    {
      "cell_type": "code",
      "execution_count": 2,
      "id": "fc2101f6",
      "metadata": {
        "deletable": false,
        "editable": false,
        "nbgrader": {
          "cell_type": "code",
          "checksum": "fccb5c30f3f02d365361c27ebbef3785",
          "grade": true,
          "grade_id": "cell-06862766bba9f2ec",
          "locked": true,
          "points": 1,
          "schema_version": 3,
          "solution": false,
          "task": false
        },
        "id": "fc2101f6"
      },
      "outputs": [],
      "source": []
    },
    {
      "cell_type": "code",
      "execution_count": 2,
      "id": "636d71cf",
      "metadata": {
        "deletable": false,
        "editable": false,
        "nbgrader": {
          "cell_type": "code",
          "checksum": "2c5dab35b1fbc5952890cc4e619c1e99",
          "grade": true,
          "grade_id": "cell-0638024016ea46be",
          "locked": true,
          "points": 1,
          "schema_version": 3,
          "solution": false,
          "task": false
        },
        "id": "636d71cf"
      },
      "outputs": [],
      "source": []
    },
    {
      "cell_type": "markdown",
      "id": "040b8cd0",
      "metadata": {
        "deletable": false,
        "editable": false,
        "nbgrader": {
          "cell_type": "markdown",
          "checksum": "5f81a63710947b55ca829744a8434e2a",
          "grade": false,
          "grade_id": "cell-d1370555cdfecd00",
          "locked": true,
          "schema_version": 3,
          "solution": false,
          "task": false
        },
        "id": "040b8cd0"
      },
      "source": [
        "# Ejercicio 2: Cálculo de la Entropía de una Partición H(X)\n",
        "\n",
        "**Contexto:**\n",
        "La entropía $H(X)$ de una partición $X$ mide la incertidumbre o \"sorpresa\" asociada a la distribución de nodos en las comunidades. Una entropía más alta puede indicar una mayor cantidad de comunidades o una distribución más uniforme de nodos entre ellas.\n",
        "La fórmula es:\n",
        "$$ H(X) = - \\sum_{x \\in X} P(x) \\log(P(x)) $$\n",
        "donde $X$ es el conjunto de comunidades, $x$ es una comunidad individual, $P(x) = \\frac{|x|}{N}$ es la proporción de nodos en la comunidad $x$, y $(N$) es el número total de nodos en el grafo. Usaremos el logaritmo natural (`np.log`).\n",
        "\n",
        "**Tu Tarea:**\n",
        "Implementa una función llamada `calcular_entropia_particion`.\n",
        "\n",
        "La función recibirá:\n",
        "1.  Una partición (`partition_sets`), representada como una lista de `set`s, donde cada `set` contiene los nodos de una comunidad.\n",
        "\n",
        "La función deberá:\n",
        "*   Calcular el número total de nodos $N$ en todas las comunidades.\n",
        "*   Para cada comunidad $x$ en `partition_sets`:\n",
        "    *   Calcular $P(x)$.\n",
        "    *   Calcular $P(x) \\log(P(x))$. (Si $P(x) = 0$, entonces $P(x) \\log(P(x)) = 0$).\n",
        "*   Sumar estos valores y multiplicar por -1 para obtener $H(X)$.\n",
        "*   Devolver el valor de la entropía.\n",
        "\n",
        "**Suposiciones:**\n",
        "*   La `partition_sets` no estará vacía y los `set`s de comunidades no estarán vacíos.\n",
        "*   Todos los nodos son únicos a través de las comunidades (es una partición válida)."
      ]
    },
    {
      "cell_type": "code",
      "execution_count": 3,
      "id": "a39df816",
      "metadata": {
        "deletable": false,
        "nbgrader": {
          "cell_type": "code",
          "checksum": "523199c41e09c5df922769e1004dc237",
          "grade": false,
          "grade_id": "cell-bd48040ce832800b",
          "locked": false,
          "schema_version": 3,
          "solution": true,
          "task": false
        },
        "colab": {
          "base_uri": "https://localhost:8080/"
        },
        "id": "a39df816",
        "outputId": "2871d10f-e315-432f-a6c5-8300241a2100"
      },
      "outputs": [
        {
          "output_type": "stream",
          "name": "stdout",
          "text": [
            "Tests para calcular_entropia_particion pasados exitosamente.\n"
          ]
        }
      ],
      "source": [
        "def calcular_entropia_particion(partition_sets: List[Set[Any]]) -> float:\n",
        "    \"\"\"\n",
        "    Calcula la entropía H(X) de una partición dada.\n",
        "\n",
        "    Args:\n",
        "        partition_sets: Una lista de sets, donde cada set es una comunidad.\n",
        "\n",
        "    Returns:\n",
        "        El valor de la entropía H(X).\n",
        "    \"\"\"\n",
        "    return -sum((len(c)/sum(len(s) for s in partition_sets)) * np.log(len(c)/sum(len(s) for s in partition_sets)) for c in partition_sets)\n",
        "\n",
        "\n",
        "# Partición de prueba 1:\n",
        "particion_test2_a = [{0, 1, 2}, {3, 4, 5}]\n",
        "# N=6. P(x1)=3/6=0.5, P(x2)=3/6=0.5\n",
        "# H(X) = - (0.5*log(0.5) + 0.5*log(0.5)) = - (2 * 0.5 * log(0.5)) = -log(0.5) = log(2)\n",
        "entropia_esperada_a = np.log(2) # Aproximadamente 0.693\n",
        "entropia_calculada_a = calcular_entropia_particion(particion_test2_a)\n",
        "assert np.isclose(entropia_calculada_a, entropia_esperada_a), \\\n",
        "    f\"Error para partición A. Esperado {entropia_esperada_a:.4f}, obtenido {entropia_calculada_a:.4f}\"\n",
        "\n",
        "# Partición de prueba 1: Dos comunidades de igual tamaño\n",
        "particion_test2_a = [{0, 1, 2}, {3, 4, 5}]\n",
        "# N=6. P(x1)=3/6=0.5, P(x2)=3/6=0.5\n",
        "# H(X) = - (0.5*log(0.5) + 0.5*log(0.5)) = - (2 * 0.5 * log(0.5)) = -log(0.5) = log(2)\n",
        "entropia_esperada_a = np.log(2) # Aproximadamente 0.693\n",
        "entropia_calculada_a = calcular_entropia_particion(particion_test2_a)\n",
        "assert np.isclose(entropia_calculada_a, entropia_esperada_a), \\\n",
        "    f\"Error para partición A. Esperado {entropia_esperada_a:.4f}, obtenido {entropia_calculada_a:.4f}\"\n",
        "\n",
        "# Partición de prueba 2: Una sola comunidad con todos los nodos\n",
        "particion_test2_b = [{0, 1, 2, 3, 4, 5}]\n",
        "# N=6. P(x1)=6/6=1.\n",
        "# H(X) = - (1*log(1)) = 0\n",
        "entropia_esperada_b = 0.0\n",
        "entropia_calculada_b = calcular_entropia_particion(particion_test2_b)\n",
        "assert np.isclose(entropia_calculada_b, entropia_esperada_b), \\\n",
        "    f\"Error para partición B. Esperado {entropia_esperada_b:.4f}, obtenido {entropia_calculada_b:.4f}\"\n",
        "\n",
        "# Partición de prueba 3: Tres comunidades\n",
        "particion_test2_c = [{0,1}, {2,3,4}, {5}]\n",
        "# N=6. P(x1)=2/6, P(x2)=3/6, P(x3)=1/6\n",
        "p1 = 2/6; p2 = 3/6; p3 = 1/6\n",
        "entropia_esperada_c = - (p1*np.log(p1) + p2*np.log(p2) + p3*np.log(p3)) # Aprox 1.0114\n",
        "entropia_calculada_c = calcular_entropia_particion(particion_test2_c)\n",
        "assert np.isclose(entropia_calculada_c, entropia_esperada_c), \\\n",
        "    f\"Error para partición C. Esperado {entropia_esperada_c:.4f}, obtenido {entropia_calculada_c:.4f}\"\n",
        "\n",
        "print(\"Tests para calcular_entropia_particion pasados exitosamente.\")\n"
      ]
    },
    {
      "cell_type": "code",
      "execution_count": 3,
      "id": "68d4707b",
      "metadata": {
        "deletable": false,
        "editable": false,
        "nbgrader": {
          "cell_type": "code",
          "checksum": "ab2c8a8116ed64542d38554f18e094eb",
          "grade": true,
          "grade_id": "cell-3af910314d620c50",
          "locked": true,
          "points": 3,
          "schema_version": 3,
          "solution": false,
          "task": false
        },
        "id": "68d4707b"
      },
      "outputs": [],
      "source": []
    },
    {
      "cell_type": "code",
      "execution_count": 3,
      "id": "66ce0d0a",
      "metadata": {
        "deletable": false,
        "editable": false,
        "nbgrader": {
          "cell_type": "code",
          "checksum": "d85696621b4d0038d92063ce79023b89",
          "grade": true,
          "grade_id": "cell-bd84988921623ca1",
          "locked": true,
          "points": 1,
          "schema_version": 3,
          "solution": false,
          "task": false
        },
        "id": "66ce0d0a"
      },
      "outputs": [],
      "source": []
    },
    {
      "cell_type": "code",
      "execution_count": 3,
      "id": "d2f09e67",
      "metadata": {
        "deletable": false,
        "editable": false,
        "nbgrader": {
          "cell_type": "code",
          "checksum": "3e74f2c05d5bb5b84a3adfef1e1f956a",
          "grade": true,
          "grade_id": "cell-28a466c139f9ac70",
          "locked": true,
          "points": 1,
          "schema_version": 3,
          "solution": false,
          "task": false
        },
        "id": "d2f09e67"
      },
      "outputs": [],
      "source": []
    },
    {
      "cell_type": "code",
      "execution_count": 3,
      "id": "40c2caed",
      "metadata": {
        "deletable": false,
        "editable": false,
        "nbgrader": {
          "cell_type": "code",
          "checksum": "9bb08f93d3da255966aa9424054f8f93",
          "grade": true,
          "grade_id": "cell-dc9df1004f60fe75",
          "locked": true,
          "points": 1,
          "schema_version": 3,
          "solution": false,
          "task": false
        },
        "id": "40c2caed"
      },
      "outputs": [],
      "source": []
    },
    {
      "cell_type": "code",
      "execution_count": 3,
      "id": "99e878ef",
      "metadata": {
        "deletable": false,
        "editable": false,
        "nbgrader": {
          "cell_type": "code",
          "checksum": "d4224f3261e0482abc0bd671e599feda",
          "grade": true,
          "grade_id": "cell-6e81514396d84c81",
          "locked": true,
          "points": 1,
          "schema_version": 3,
          "solution": false,
          "task": false
        },
        "id": "99e878ef"
      },
      "outputs": [],
      "source": []
    },
    {
      "cell_type": "code",
      "execution_count": 3,
      "id": "0bd69638",
      "metadata": {
        "deletable": false,
        "editable": false,
        "nbgrader": {
          "cell_type": "code",
          "checksum": "fcb39ee8fcbbd5bbc63483a483442332",
          "grade": true,
          "grade_id": "cell-c2d5227e87435d9c",
          "locked": true,
          "points": 1,
          "schema_version": 3,
          "solution": false,
          "task": false
        },
        "id": "0bd69638"
      },
      "outputs": [],
      "source": []
    },
    {
      "cell_type": "code",
      "execution_count": 3,
      "id": "db085845",
      "metadata": {
        "deletable": false,
        "editable": false,
        "nbgrader": {
          "cell_type": "code",
          "checksum": "76fb6b1d1a0a45c58ba7df0370291610",
          "grade": true,
          "grade_id": "cell-f79a6f2a40d4584c",
          "locked": true,
          "points": 1,
          "schema_version": 3,
          "solution": false,
          "task": false
        },
        "id": "db085845"
      },
      "outputs": [],
      "source": []
    }
  ],
  "metadata": {
    "kernelspec": {
      "display_name": "Python 3 (ipykernel)",
      "language": "python",
      "name": "python3"
    },
    "language_info": {
      "codemirror_mode": {
        "name": "ipython",
        "version": 3
      },
      "file_extension": ".py",
      "mimetype": "text/x-python",
      "name": "python",
      "nbconvert_exporter": "python",
      "pygments_lexer": "ipython3",
      "version": "3.10.6"
    },
    "colab": {
      "provenance": [],
      "include_colab_link": true
    }
  },
  "nbformat": 4,
  "nbformat_minor": 5
}