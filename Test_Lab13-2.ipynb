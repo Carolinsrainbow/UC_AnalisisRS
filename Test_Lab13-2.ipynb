{
 "cells": [
  {
   "cell_type": "markdown",
   "id": "dd734a9d",
   "metadata": {
    "deletable": false,
    "editable": false,
    "nbgrader": {
     "cell_type": "markdown",
     "checksum": "72dfab7b81db152739b6f964b457479a",
     "grade": false,
     "grade_id": "cell-c4253f45d35bca89",
     "locked": true,
     "schema_version": 3,
     "solution": false,
     "task": false
    }
   },
   "source": [
    "# Ejercicio 1: Encontrando Cliques de un Tamaño Específico\n",
    "\n",
    "Un **clique** en un grafo no dirigido es un subconjunto de vértices tal que cada par de vértices distintos en el clique son adyacentes (es decir, hay una arista que los conecta). En otras palabras, un clique es un subgrafo completo.\n",
    "\n",
    "Tu tarea es implementar una función en Python llamada `encontrar_cliques_por_tamano` que encuentre todos los cliques de un tamaño específico en un grafo dado.\n",
    "\n",
    "1.  **`encontrar_cliques_por_tamano(G: nx.Graph, tamano_clique: int) -> list`**:\n",
    "    *   Esta función toma dos argumentos:\n",
    "        *   `G`: Un objeto grafo de NetworkX (`nx.Graph`).\n",
    "        *   `tamano_clique`: Un entero que especifica el tamaño de los cliques que se deben buscar.\n",
    "    *   La función debe utilizar `nx.enumerate_all_cliques(G)` para iterar sobre todos los cliques en el grafo.\n",
    "    *   Debe devolver una lista. Cada elemento de la lista será un subgrafo (`nx.Graph`) que representa un clique del tamaño especificado. Si no se encuentran cliques de ese tamaño, la función debe devolver una lista vacía."
   ]
  },
  {
   "cell_type": "code",
   "execution_count": 1,
   "id": "e611498c",
   "metadata": {
    "deletable": false,
    "nbgrader": {
     "cell_type": "code",
     "checksum": "e477cfdfbe1c898d434f78a8ee2dbb65",
     "grade": false,
     "grade_id": "cell-2e8131bee49f02bc",
     "locked": false,
     "schema_version": 3,
     "solution": true,
     "task": false
    }
   },
   "outputs": [],
   "source": [
    "import itertools\n",
    "import random\n",
    "import networkx as nx\n",
    "import numpy as np\n",
    "from dotmotif import Motif, GrandIsoExecutor\n",
    "def encontrar_cliques_por_tamano_solucion(G: nx.Graph, tamano_clique: int) -> list:\n",
    "    if tamano_clique <= 0 or G.number_of_nodes() == 0:\n",
    "        return []\n",
    "\n",
    "    cliques_subgrafos = []\n",
    "    # enumerate_all_cliques devuelve cliques crecientes por tamaño y orden lexicográfico\n",
    "    for clique in nx.enumerate_all_cliques(G):\n",
    "        if len(clique) == tamano_clique:\n",
    "            # Genera el subgrafo del clique (copia para aislarlo del grafo original)\n",
    "            sub = G.subgraph(clique).copy()\n",
    "            cliques_subgrafos.append(sub)\n",
    "\n",
    "        # enumerate_all_cliques genera primero los cliques pequeños; cuando el tamaño\n",
    "        # supera tamano_clique ya no es necesario seguir (optimización)\n",
    "        if len(clique) > tamano_clique:\n",
    "            break\n",
    "\n",
    "    # Orden determinista por los nodos del subgrafo (lexicográfico)\n",
    "    cliques_subgrafos.sort(key=lambda sg: sorted(sg.nodes()))\n",
    "    return cliques_subgrafos\n",
    "\n",
    "\n",
    "g_test_clique = nx.Graph()\n",
    "g_test_clique.add_edges_from([(0, 1), (0, 2), (0, 3), (1, 2), (1, 3), (2, 3), (3, 4)])\n",
    "# Test para cliques de tamaño 3\n",
    "tamano_buscado = 3\n",
    "cliques_resultado = encontrar_cliques_por_tamano_solucion(g_test_clique, tamano_buscado)\n",
    "\n",
    "assert isinstance(cliques_resultado, list), \"La función debe devolver una lista.\"\n",
    "assert len(cliques_resultado) == 4, f\"Se esperaban 4 cliques de tamaño 3, se encontraron {len(cliques_resultado)}.\""
   ]
  },
  {
   "cell_type": "code",
   "execution_count": null,
   "id": "f292d0e9",
   "metadata": {
    "deletable": false,
    "editable": false,
    "nbgrader": {
     "cell_type": "code",
     "checksum": "6832cc2638819116cadab63c2b2fa336",
     "grade": true,
     "grade_id": "cell-1c33ed0744be8422",
     "locked": true,
     "points": 2,
     "schema_version": 3,
     "solution": false,
     "task": false
    }
   },
   "outputs": [],
   "source": []
  },
  {
   "cell_type": "code",
   "execution_count": null,
   "id": "8147e084",
   "metadata": {
    "deletable": false,
    "editable": false,
    "nbgrader": {
     "cell_type": "code",
     "checksum": "cd554d1eb16cefefeaafde0c561f1f12",
     "grade": true,
     "grade_id": "cell-d7b6a8390c329da6",
     "locked": true,
     "points": 2,
     "schema_version": 3,
     "solution": false,
     "task": false
    }
   },
   "outputs": [],
   "source": []
  },
  {
   "cell_type": "code",
   "execution_count": null,
   "id": "b24143d2",
   "metadata": {
    "deletable": false,
    "editable": false,
    "nbgrader": {
     "cell_type": "code",
     "checksum": "34f083fa1ac4e234185038262d170f81",
     "grade": true,
     "grade_id": "cell-486747adf309197a",
     "locked": true,
     "points": 2,
     "schema_version": 3,
     "solution": false,
     "task": false
    }
   },
   "outputs": [],
   "source": []
  },
  {
   "cell_type": "code",
   "execution_count": null,
   "id": "9e76f965",
   "metadata": {
    "deletable": false,
    "editable": false,
    "nbgrader": {
     "cell_type": "code",
     "checksum": "70ed3c61a38e5813417d03b8a1992846",
     "grade": true,
     "grade_id": "cell-a68dd8c8926a12a2",
     "locked": true,
     "points": 2,
     "schema_version": 3,
     "solution": false,
     "task": false
    }
   },
   "outputs": [],
   "source": []
  },
  {
   "cell_type": "markdown",
   "id": "ad0d155f",
   "metadata": {
    "deletable": false,
    "editable": false,
    "nbgrader": {
     "cell_type": "markdown",
     "checksum": "23dbffe552ff1bf37dffd7547de8c15a",
     "grade": false,
     "grade_id": "cell-af83c49ee63522d3",
     "locked": true,
     "schema_version": 3,
     "solution": false,
     "task": false
    }
   },
   "source": [
    "# Ejercicio 2: Contando un Motif Específico en un Grafo Dirigido\n",
    "\n",
    "Los **motifs** son subgrafos pequeños que aparecen en una red con una frecuencia significativamente mayor (o menor) de lo que se esperaría en redes aleatorias. Contar motifs ayuda a entender la estructura y función de las redes.\n",
    "\n",
    "En este ejercicio, contarás las ocurrencias de un motif específico en un grafo dirigido. El motif que nos interesa es un **triángulo donde todas las aristas son bidireccionales**. Es decir, si los nodos son A, B y C, deben existir las aristas A<->B, B<->C, y C<->A.\n",
    "\n",
    "Para esto, utilizarás la librería `dotmotif`. Se te proporcionará un objeto `Motif` ya definido que representa este triángulo bidireccional.\n",
    "\n",
    "Tu tarea es implementar una función en Python llamada `contar_motif_triangulo_bidireccional`.\n",
    "\n",
    "1.  **`contar_motif_triangulo_bidireccional(G: nx.DiGraph, motif_triangulo: Motif) -> int`**:\n",
    "    *   Esta función toma dos argumentos:\n",
    "        *   `G`: Un objeto grafo dirigido de NetworkX (`nx.DiGraph`).\n",
    "        *   `motif_triangulo`: Un objeto `Motif` de la librería `dotmotif`, que representa el triángulo bidireccional.\n",
    "    *   Dentro de la función, debes:\n",
    "        1.  Crear un `GrandIsoExecutor` con el grafo `G`.\n",
    "        2.  Usar el método `find()` del ejecutor para buscar todas las ocurrencias del `motif_triangulo`.\n",
    "    *   La función debe devolver un entero que represente el número total de ocurrencias encontradas. Ten en cuenta que `dotmotif` puede contar múltiples veces el mismo subgrafo si hay simetrías en el motif (por ejemplo, diferentes asignaciones de A, B, C a los mismos tres nodos); esto es esperado."
   ]
  },
  {
   "cell_type": "code",
   "execution_count": 2,
   "id": "bee642e1",
   "metadata": {
    "deletable": false,
    "nbgrader": {
     "cell_type": "code",
     "checksum": "b22f25cea47af294ad870bf5bd761d1d",
     "grade": false,
     "grade_id": "cell-531ad127bf338e55",
     "locked": false,
     "schema_version": 3,
     "solution": true,
     "task": false
    }
   },
   "outputs": [],
   "source": [
    "def contar_motif_triangulo_bidireccional_solucion(G: nx.DiGraph, motif_triangulo: Motif) -> int:\n",
    "    conteo = 0\n",
    "    for a, b, c in itertools.permutations(G.nodes(), 3):\n",
    "        if (G.has_edge(a, b) and G.has_edge(b, a) and\n",
    "            G.has_edge(b, c) and G.has_edge(c, b) and\n",
    "            G.has_edge(c, a) and G.has_edge(a, c)):\n",
    "            conteo += 1\n",
    "    return conteo\n",
    "\n",
    "    \n",
    "# Grafo de prueba dirigido\n",
    "g_test_motif = nx.DiGraph()\n",
    "g_test_motif.add_edges_from([(0,1), (1,0), (0,2), (2,0), (1,2), (2,1)])\n",
    "g_test_motif.add_edges_from([(2,3), (3,0), (0,4), (4,1)])\n",
    "motif_test = Motif(\"\"\"\n",
    "    A -> B\n",
    "    B -> A\n",
    "    B -> C\n",
    "    C -> B\n",
    "    C -> A\n",
    "    A -> C\n",
    "\"\"\")\n",
    "conteo_resultado = contar_motif_triangulo_bidireccional_solucion(g_test_motif, motif_test)\n",
    "expected_count = 6 \n",
    "assert conteo_resultado == expected_count, \\\n",
    "    f\"Se esperaba un conteo de {expected_count} para el motif de triángulo bidireccional, se obtuvo {conteo_resultado}.\"\n"
   ]
  },
  {
   "cell_type": "code",
   "execution_count": null,
   "id": "65f448dc",
   "metadata": {
    "deletable": false,
    "editable": false,
    "nbgrader": {
     "cell_type": "code",
     "checksum": "dc9f4776adb8cfd90aee2508ef936d42",
     "grade": true,
     "grade_id": "cell-9aaae1ab9d7c7d4c",
     "locked": true,
     "points": 2,
     "schema_version": 3,
     "solution": false,
     "task": false
    }
   },
   "outputs": [],
   "source": []
  },
  {
   "cell_type": "code",
   "execution_count": null,
   "id": "7178e5b8",
   "metadata": {
    "deletable": false,
    "editable": false,
    "nbgrader": {
     "cell_type": "code",
     "checksum": "c403e49971eb1d45f93d68b0abfbbd34",
     "grade": true,
     "grade_id": "cell-de9ea94a75490915",
     "locked": true,
     "points": 1,
     "schema_version": 3,
     "solution": false,
     "task": false
    }
   },
   "outputs": [],
   "source": []
  },
  {
   "cell_type": "code",
   "execution_count": null,
   "id": "31a56a13",
   "metadata": {
    "deletable": false,
    "editable": false,
    "nbgrader": {
     "cell_type": "code",
     "checksum": "6f1d5aa2fbbe12e0ff007e7611a679be",
     "grade": true,
     "grade_id": "cell-f4af0de71cacd92d",
     "locked": true,
     "points": 1,
     "schema_version": 3,
     "solution": false,
     "task": false
    }
   },
   "outputs": [],
   "source": []
  }
 ],
 "metadata": {
  "kernelspec": {
   "display_name": "Python 3 (ipykernel)",
   "language": "python",
   "name": "python3"
  },
  "language_info": {
   "codemirror_mode": {
    "name": "ipython",
    "version": 3
   },
   "file_extension": ".py",
   "mimetype": "text/x-python",
   "name": "python",
   "nbconvert_exporter": "python",
   "pygments_lexer": "ipython3",
   "version": "3.10.6"
  }
 },
 "nbformat": 4,
 "nbformat_minor": 5
}
