{
  "cells": [
    {
      "cell_type": "markdown",
      "metadata": {
        "id": "view-in-github",
        "colab_type": "text"
      },
      "source": [
        "<a href=\"https://colab.research.google.com/github/Carolinsrainbow/UC_AnalisisRS/blob/main/Test_Lab5.ipynb\" target=\"_parent\"><img src=\"https://colab.research.google.com/assets/colab-badge.svg\" alt=\"Open In Colab\"/></a>"
      ]
    },
    {
      "cell_type": "markdown",
      "id": "a630dd58",
      "metadata": {
        "deletable": false,
        "editable": false,
        "nbgrader": {
          "cell_type": "markdown",
          "checksum": "bc47a0005a8b82bf8bbc61558051bc85",
          "grade": false,
          "grade_id": "cell-73c396d6d9bba8ab",
          "locked": true,
          "schema_version": 3,
          "solution": false,
          "task": false
        },
        "id": "a630dd58"
      },
      "source": [
        "# EJERCICIO 1\n",
        "\n",
        "Analice el PageRank del grafo `G` (asumiendo que es el grafo de aeropuertos). Seleccione los 10 aeropuertos con el valor de PageRank más alto.\n",
        "Para cada uno de estos 10 aeropuertos muestre su código.\n",
        "Basándose en la métrica de PageRank, ¿qué característica general podría inferir sobre la importancia o el rol de estos aeropuertos en la red de vuelos?"
      ]
    },
    {
      "cell_type": "code",
      "execution_count": 1,
      "id": "208c477a",
      "metadata": {
        "id": "208c477a"
      },
      "outputs": [],
      "source": [
        "import requests\n",
        "import os\n",
        "import networkx as nx\n",
        "\n",
        "# URL del archivo comprimido en GitHub\n",
        "url = \"https://github.com/CambridgeUniversityPress/FirstCourseNetworkScience/raw/master/datasets/openflights/openflights_world.graphml.gz\"\n",
        "response = requests.get(url)\n",
        "# Carpeta de destino para la descarga\n",
        "download_folder = os.getcwd()\n",
        "filename = 'openflights_world.graphml.gz'\n",
        "# Guardar el archivo\n",
        "with open(os.path.join(download_folder, filename), 'wb') as file:\n",
        "    file.write(response.content)\n",
        "G = nx.read_graphml(os.path.join(download_folder, filename))"
      ]
    },
    {
      "cell_type": "code",
      "execution_count": 2,
      "id": "89af6756",
      "metadata": {
        "deletable": false,
        "nbgrader": {
          "cell_type": "code",
          "checksum": "e9dd6f6fdb1e8475fb1cccf5dfe685cc",
          "grade": false,
          "grade_id": "cell-e2fba87525f16512",
          "locked": false,
          "schema_version": 3,
          "solution": true,
          "task": false
        },
        "id": "89af6756"
      },
      "outputs": [],
      "source": [
        "def get_top_10_pagerank_airports(G: nx.Graph) -> list:\n",
        "    pr = nx.pagerank(G)\n",
        "    top_10 = sorted(pr.items(), key=lambda x: x[1], reverse=True)[:10]\n",
        "    return [airport for airport, score in top_10]\n",
        "\n",
        "top_airports_solution = get_top_10_pagerank_airports(G)\n",
        "assert isinstance(top_airports_solution, list)\n",
        "assert len(top_airports_solution) == 10\n",
        "assert isinstance(top_airports_solution[0], str)\n",
        "\n",
        "G_empty = nx.Graph()\n",
        "top_empty = get_top_10_pagerank_airports(G_empty)\n",
        "assert isinstance(top_empty, list), \"Test Failed (Empty Graph): Result should be a list\"\n",
        "assert len(top_empty) == 0, \"Test Failed (Empty Graph): Should return an empty list\"\n",
        "\n",
        "G_exact_int = nx.path_graph(10) # Nodes 0-9\n",
        "top_exact_int = get_top_10_pagerank_airports(G_exact_int)\n",
        "assert isinstance(top_exact_int, list), \"Test Failed (Exact 10 Int Nodes): Result should be a list\"\n",
        "assert len(top_exact_int) == 10, \"Test Failed (Exact 10 Int Nodes): Should return 10 nodes\"\n",
        "assert set(top_exact_int) == set(range(10)), \"Test Failed (Exact 10 Int Nodes): All nodes should be returned\""
      ]
    },
    {
      "cell_type": "markdown",
      "id": "2c50f559",
      "metadata": {
        "deletable": false,
        "editable": false,
        "nbgrader": {
          "cell_type": "markdown",
          "checksum": "dca440549f66210c42bad87d088e1065",
          "grade": false,
          "grade_id": "cell-c99f102284a6be66",
          "locked": true,
          "schema_version": 3,
          "solution": false,
          "task": false
        },
        "id": "2c50f559"
      },
      "source": [
        "La función ordena todos los aeropuertos por puntuaciones PageRank en orden descendente y devuelve los códigos IATA de los 10 primeros. Estos aeropuertos son centros internacionales que desempeñan un papel fundamental en el transporte aéreo mundial, ya que sirven como puntos de conexión clave para un gran volumen de vuelos y pasajeros."
      ]
    },
    {
      "cell_type": "code",
      "execution_count": null,
      "id": "d18e2137",
      "metadata": {
        "deletable": false,
        "editable": false,
        "nbgrader": {
          "cell_type": "code",
          "checksum": "87aa34006a7b7206ba1d0f46454f9205",
          "grade": true,
          "grade_id": "cell-08a0055dc7e5c3e3",
          "locked": true,
          "points": 3,
          "schema_version": 3,
          "solution": false,
          "task": false
        },
        "id": "d18e2137"
      },
      "outputs": [],
      "source": []
    },
    {
      "cell_type": "code",
      "execution_count": null,
      "id": "294e00e2",
      "metadata": {
        "deletable": false,
        "editable": false,
        "nbgrader": {
          "cell_type": "code",
          "checksum": "5d8dd504340e2cbadfbb6507f8fc3786",
          "grade": true,
          "grade_id": "cell-e2d8c6f6b0c0d1b8",
          "locked": true,
          "points": 2,
          "schema_version": 3,
          "solution": false,
          "task": false
        },
        "id": "294e00e2"
      },
      "outputs": [],
      "source": []
    },
    {
      "cell_type": "code",
      "execution_count": null,
      "id": "7ff29401",
      "metadata": {
        "deletable": false,
        "editable": false,
        "nbgrader": {
          "cell_type": "code",
          "checksum": "a0660e7ef8adfed74d7bdefa884f6ec4",
          "grade": true,
          "grade_id": "cell-3986cef40f02d385",
          "locked": true,
          "points": 3,
          "schema_version": 3,
          "solution": false,
          "task": false
        },
        "id": "7ff29401"
      },
      "outputs": [],
      "source": []
    },
    {
      "cell_type": "code",
      "execution_count": null,
      "id": "3be22dbc",
      "metadata": {
        "deletable": false,
        "editable": false,
        "nbgrader": {
          "cell_type": "code",
          "checksum": "f8e9e475f864b0fb92207019ea145d92",
          "grade": true,
          "grade_id": "cell-6e2b285f6bb86dcb",
          "locked": true,
          "points": 3,
          "schema_version": 3,
          "solution": false,
          "task": false
        },
        "id": "3be22dbc"
      },
      "outputs": [],
      "source": []
    }
  ],
  "metadata": {
    "kernelspec": {
      "display_name": "Python 3 (ipykernel)",
      "language": "python",
      "name": "python3"
    },
    "language_info": {
      "codemirror_mode": {
        "name": "ipython",
        "version": 3
      },
      "file_extension": ".py",
      "mimetype": "text/x-python",
      "name": "python",
      "nbconvert_exporter": "python",
      "pygments_lexer": "ipython3",
      "version": "3.10.6"
    },
    "colab": {
      "provenance": [],
      "include_colab_link": true
    }
  },
  "nbformat": 4,
  "nbformat_minor": 5
}