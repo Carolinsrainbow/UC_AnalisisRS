{
  "cells": [
    {
      "cell_type": "markdown",
      "metadata": {
        "id": "view-in-github",
        "colab_type": "text"
      },
      "source": [
        "<a href=\"https://colab.research.google.com/github/Carolinsrainbow/UC_AnalisisRS/blob/main/Evaluacio%CC%81n_Lab1.ipynb\" target=\"_parent\"><img src=\"https://colab.research.google.com/assets/colab-badge.svg\" alt=\"Open In Colab\"/></a>"
      ]
    },
    {
      "cell_type": "markdown",
      "id": "9e353fd6",
      "metadata": {
        "deletable": false,
        "editable": false,
        "nbgrader": {
          "cell_type": "markdown",
          "checksum": "7761699b6438f9243ddfa990a85fe80f",
          "grade": false,
          "grade_id": "cell-0bba6107ed43ca33",
          "locked": true,
          "schema_version": 3,
          "solution": false,
          "task": false
        },
        "id": "9e353fd6"
      },
      "source": [
        "# EJERCICIO 1\n",
        "\n",
        "En teoría de grafos, un nodo se considera una *hoja* si tiene exactamente un vecino (es decir, su grado es 1). Aunque este término se usa frecuentemente en el contexto de los árboles, el concepto es aplicable a grafos en general.\n",
        "\n",
        "Escribe una función llamada `get_leaves` que cumpla con los siguientes requisitos:\n",
        "1.  Acepte un grafo no dirigido (objeto `nx.Graph`) como argumento.\n",
        "2.  Itere a través de todos los nodos presentes en el grafo.\n",
        "3.  Identifique los nodos cuyo grado sea exactamente 1.\n",
        "4.  Devuelva una lista que contenga todos los nodos hoja encontrados.\n"
      ]
    },
    {
      "cell_type": "code",
      "execution_count": 3,
      "id": "b9375510",
      "metadata": {
        "deletable": false,
        "nbgrader": {
          "cell_type": "code",
          "checksum": "c6f48b7a13d15278adc9f9c00bd4a14c",
          "grade": false,
          "grade_id": "cell-17b24939301ef8ac",
          "locked": false,
          "schema_version": 3,
          "solution": true,
          "task": false
        },
        "id": "b9375510"
      },
      "outputs": [],
      "source": [
        "import networkx as nx\n",
        "\n",
        "def get_leaves(G: nx.Graph) -> list:\n",
        "    hojas = []\n",
        "    for nodo in G.nodes():\n",
        "        if G.degree(nodo) == 1:\n",
        "            hojas.append(nodo)\n",
        "    return hojas\n",
        "\n",
        "    raise NotImplementedError"
      ]
    },
    {
      "cell_type": "code",
      "execution_count": 4,
      "id": "b20ed795",
      "metadata": {
        "deletable": false,
        "editable": false,
        "nbgrader": {
          "cell_type": "code",
          "checksum": "1a51d44a9b87cda3b58a3800f4d65327",
          "grade": true,
          "grade_id": "cell-0f1b0a651ef6ac7d",
          "locked": true,
          "points": 1,
          "schema_version": 3,
          "solution": false,
          "task": false
        },
        "colab": {
          "base_uri": "https://localhost:8080/",
          "height": 406
        },
        "id": "b20ed795",
        "outputId": "c7065eba-02c2-4d99-90a0-4fdcba6eb07f"
      },
      "outputs": [
        {
          "output_type": "display_data",
          "data": {
            "text/plain": [
              "<Figure size 640x480 with 1 Axes>"
            ],
            "image/png": "[encoded data removed]"
          },
          "metadata": {}
        }
      ],
      "source": [
        "G = nx.Graph()\n",
        "\n",
        "G.add_edges_from([\n",
        "    (0, 1),\n",
        "     (0, 2),\n",
        "      (1, 3),\n",
        "       (1, 4),\n",
        "        (2, 5),\n",
        "         (2, 6)]\n",
        "    )\n",
        "nx.draw_networkx(G, with_labels=True)\n",
        "assert set(get_leaves(G)) == {3, 4, 5, 6}\n"
      ]
    },
    {
      "cell_type": "markdown",
      "id": "51ae8b95",
      "metadata": {
        "deletable": false,
        "editable": false,
        "nbgrader": {
          "cell_type": "markdown",
          "checksum": "be3b5ad31f2ec0d3b4637c0c9c3f7230",
          "grade": false,
          "grade_id": "cell-e374c3c30629dfde",
          "locked": true,
          "schema_version": 3,
          "solution": false,
          "task": false
        },
        "id": "51ae8b95"
      },
      "source": [
        "# EJERCICIO 2\n",
        "\n",
        "En el contexto de los grafos dirigidos, un nodo se denomina *raíz* si no tiene aristas entrantes (es decir, su grado de entrada o *in-degree* es 0). Aunque este término es común en estructuras de datos como los árboles (que son un tipo específico de grafo dirigido), el concepto es aplicable a cualquier grafo dirigido. Un grafo dirigido puede tener múltiples nodos raíz o ninguno.\n",
        "\n",
        "Escribe una función llamada `get_root` que cumpla con los siguientes requisitos:\n",
        "1.  Acepte un grafo dirigido (objeto `nx.DiGraph`) como argumento.\n",
        "2.  Itere a través de todos los nodos presentes en el grafo.\n",
        "3.  Identifique los nodos cuyo grado de entrada sea exactamente 0.\n",
        "4.  Devuelva una lista que contenga todos los nodos raíz encontrados.\n"
      ]
    },
    {
      "cell_type": "code",
      "execution_count": null,
      "id": "df3dff15",
      "metadata": {
        "deletable": false,
        "nbgrader": {
          "cell_type": "code",
          "checksum": "449fefba8259740c0abaed7a5fb2969b",
          "grade": false,
          "grade_id": "cell-f6f4ff47fc716161",
          "locked": false,
          "schema_version": 3,
          "solution": true,
          "task": false
        },
        "id": "df3dff15"
      },
      "outputs": [],
      "source": [
        "def get_root(G: nx.DiGraph) -> list:\n",
        "    # your code here\n",
        "    raise NotImplementedError"
      ]
    },
    {
      "cell_type": "code",
      "execution_count": null,
      "id": "f4e73fed",
      "metadata": {
        "deletable": false,
        "editable": false,
        "nbgrader": {
          "cell_type": "code",
          "checksum": "3fd4a87803be1d0e6f8ac61dcf4f436c",
          "grade": true,
          "grade_id": "cell-3af0c9e5516d5501",
          "locked": true,
          "points": 1,
          "schema_version": 3,
          "solution": false,
          "task": false
        },
        "id": "f4e73fed"
      },
      "outputs": [],
      "source": [
        "G = nx.DiGraph()\n",
        "\n",
        "G.add_edges_from([\n",
        "    (0, 1),\n",
        "     (0, 2),\n",
        "      (1, 3),\n",
        "       (1, 4),\n",
        "        (2, 5),\n",
        "         (2, 6)]\n",
        "    )\n",
        "nx.draw_networkx(G, with_labels=True)\n",
        "assert set(get_root(G)) == {0}\n"
      ]
    }
  ],
  "metadata": {
    "kernelspec": {
      "display_name": "Python 3 (ipykernel)",
      "language": "python",
      "name": "python3"
    },
    "language_info": {
      "codemirror_mode": {
        "name": "ipython",
        "version": 3
      },
      "file_extension": ".py",
      "mimetype": "text/x-python",
      "name": "python",
      "nbconvert_exporter": "python",
      "pygments_lexer": "ipython3",
      "version": "3.10.6"
    },
    "colab": {
      "provenance": [],
      "include_colab_link": true
    }
  },
  "nbformat": 4,
  "nbformat_minor": 5
}