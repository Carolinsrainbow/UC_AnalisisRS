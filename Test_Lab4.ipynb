{
 "cells": [
  {
   "cell_type": "markdown",
   "id": "186c5cb1",
   "metadata": {
    "deletable": false,
    "editable": false,
    "nbgrader": {
     "cell_type": "markdown",
     "checksum": "4bae0ecc5597fb7258f27882fc33266e",
     "grade": false,
     "grade_id": "cell-ce1735dd4535fa95",
     "locked": true,
     "schema_version": 3,
     "solution": false,
     "task": false
    }
   },
   "source": [
    "# EJERCICIO 1: Promedio de Grados Entrantes (Average In-Degree)\n",
    "\n",
    "El **grado entrante** (in-degree) de un nodo en un grafo dirigido es el número de aristas que apuntan hacia él. El **promedio de grados entrantes** de un grafo dirigido es la media de los grados entrantes de todos sus nodos.\n",
    "\n",
    "Esta métrica nos da una idea general de cuán \"receptores\" son los nodos en la red, en promedio. Por ejemplo:\n",
    "- En una red de citas bibliográficas, un alto promedio de grados entrantes podría indicar que los trabajos en esa red tienden a ser citados frecuentemente.\n",
    "- En una red social donde las aristas representan \"seguir a\", un alto promedio de grados entrantes significaría que, en promedio, los usuarios son seguidos por muchos otros.\n",
    "\n",
    "**Tarea:** Cree una función `avg_indegree` que tome un grafo dirigido (`networkx.DiGraph`) y devuelva el promedio del número de aristas entrantes de sus nodos.\n",
    "- Si el grafo está vacío (no tiene nodos), la función debe devolver `0.0`.\n",
    "- La función debe utilizar la librería `statistics` para calcular la media."
   ]
  },
  {
   "cell_type": "code",
   "execution_count": 1,
   "id": "ed6c3a39",
   "metadata": {
    "deletable": false,
    "nbgrader": {
     "cell_type": "code",
     "checksum": "652012a0ef54bffcc0400bbe82805865",
     "grade": false,
     "grade_id": "cell-71caf69224c987e3",
     "locked": false,
     "schema_version": 3,
     "solution": true,
     "task": false
    }
   },
   "outputs": [],
   "source": [
    "import networkx as nx\n",
    "from statistics import mean\n",
    "\n",
    "def avg_indegree(G: nx.DiGraph) -> float:\n",
    "    if len(G) == 0:\n",
    "        return 0.0\n",
    "    in_degrees = [G.in_degree(n) for n in G.nodes()]\n",
    "    return mean(in_degrees)\n",
    "\n",
    "\n",
    "G_cycle = nx.cycle_graph(5, create_using=nx.DiGraph()) # Cada nodo tiene in-degree 1\n",
    "assert avg_indegree(G_cycle) == 1.0, \"Test 5 Fallido: Grafo ciclo\""
   ]
  },
  {
   "cell_type": "code",
   "execution_count": null,
   "id": "2162e40d",
   "metadata": {
    "deletable": false,
    "editable": false,
    "nbgrader": {
     "cell_type": "code",
     "checksum": "a7b7f8f37a839e40a764970f51d73119",
     "grade": true,
     "grade_id": "cell-b6098f3d424896dc",
     "locked": true,
     "points": 5,
     "schema_version": 3,
     "solution": false,
     "task": false
    }
   },
   "outputs": [],
   "source": []
  },
  {
   "cell_type": "markdown",
   "id": "224f255a",
   "metadata": {
    "deletable": false,
    "editable": false,
    "nbgrader": {
     "cell_type": "markdown",
     "checksum": "936e41b2743cca59e907e266a794b1d6",
     "grade": false,
     "grade_id": "cell-16d11453563fb9a1",
     "locked": true,
     "schema_version": 3,
     "solution": false,
     "task": false
    }
   },
   "source": [
    "# EJERCICIO 2: Heterogeneidad de Grados Salientes (Out-Degree Heterogeneity)\n",
    "\n",
    "La **heterogeneidad de grados** es una medida que cuantifica la variabilidad en los grados de los nodos de una red. Un valor cercano a 1 indica que los grados de los nodos son muy similares (baja variabilidad), mientras que un valor mayor que 1 sugiere una mayor dispersión, con algunos nodos teniendo muchos más conexiones que otros.\n",
    "\n",
    "Se calcula como:\n",
    "$$H = \\frac{\\mathbb{E}[k^2]}{\\mathbb{E} [k]^2}$$\n",
    "donde $ \\mathbb{E} [k] $ es el promedio de los grados y $ \\mathbb{E} [k^2]$ es el promedio de los grados al cuadrado.\n",
    "\n",
    "En este ejercicio, nos enfocaremos en la **heterogeneidad de grados salientes** para un grafo dirigido. Esto significa que usaremos el grado saliente (out-degree) de cada nodo para el cálculo. El grado saliente de un nodo es el número de aristas que se originan en él y apuntan hacia otros nodos.\n",
    "\n",
    "**Tarea:** Escriba una función `heterogeneity_out` que:\n",
    "- Tome un grafo dirigido (`networkx.DiGraph`) como entrada.\n",
    "- Calcule la heterogeneidad basada en los grados salientes de los nodos.\n",
    "- Si el grafo está vacío (no tiene nodos), la función debe devolver `0.0`.\n",
    "- Si el grafo tiene nodos, pero todos los nodos tienen un grado saliente de 0 (o todos los nodos tienen el mismo grado saliente), la heterogeneidad es `1.0` (ya que no hay variación o la variación es nula).\n",
    "- La función debe utilizar `numpy` para operaciones con arrays y `statistics.mean` para los promedios."
   ]
  },
  {
   "cell_type": "code",
   "execution_count": 2,
   "id": "bbc019ee",
   "metadata": {
    "deletable": false,
    "nbgrader": {
     "cell_type": "code",
     "checksum": "da586c2afbe5e4603ea4420af058fef9",
     "grade": false,
     "grade_id": "cell-3e8cebc321e51fb9",
     "locked": false,
     "schema_version": 3,
     "solution": true,
     "task": false
    }
   },
   "outputs": [],
   "source": [
    "from statistics import mean\n",
    "import numpy as np\n",
    "\n",
    "def heterogeneity_out(G: nx.DiGraph) -> float:\n",
    "    if len(G) == 0:\n",
    "        return 0.0\n",
    "    out_degrees = [G.out_degree(n) for n in G.nodes()]\n",
    "    if all(d == out_degrees[0] for d in out_degrees):\n",
    "        return 1.0\n",
    "    mean_k = mean(out_degrees)\n",
    "    mean_k2 = mean([k**2 for k in out_degrees])\n",
    "    return mean_k2 / (mean_k**2)\n",
    "\n",
    "    \n",
    "G_single_node = nx.DiGraph()\n",
    "G_single_node.add_node(1)\n",
    "assert heterogeneity_out(G_single_node) == 1.0, f\"Test 6 Fallido: Grafo con un solo nodo. Esperado 1.0, Obtenido {heterogeneity_out(G_single_node)}\""
   ]
  },
  {
   "cell_type": "code",
   "execution_count": null,
   "id": "fc7ebe59",
   "metadata": {
    "deletable": false,
    "editable": false,
    "nbgrader": {
     "cell_type": "code",
     "checksum": "17da5448d0dddf60178e72cd3e5bc11e",
     "grade": true,
     "grade_id": "cell-ce67c59ffc8bc803",
     "locked": true,
     "points": 5,
     "schema_version": 3,
     "solution": false,
     "task": false
    }
   },
   "outputs": [],
   "source": []
  },
  {
   "cell_type": "code",
   "execution_count": null,
   "id": "aff7b602",
   "metadata": {},
   "outputs": [],
   "source": []
  }
 ],
 "metadata": {
  "kernelspec": {
   "display_name": "Python 3 (ipykernel)",
   "language": "python",
   "name": "python3"
  },
  "language_info": {
   "codemirror_mode": {
    "name": "ipython",
    "version": 3
   },
   "file_extension": ".py",
   "mimetype": "text/x-python",
   "name": "python",
   "nbconvert_exporter": "python",
   "pygments_lexer": "ipython3",
   "version": "3.10.6"
  }
 },
 "nbformat": 4,
 "nbformat_minor": 5
}
