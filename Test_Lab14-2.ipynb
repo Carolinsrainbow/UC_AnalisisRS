{
 "cells": [
  {
   "cell_type": "markdown",
   "id": "0297c42c",
   "metadata": {
    "deletable": false,
    "editable": false,
    "nbgrader": {
     "cell_type": "markdown",
     "checksum": "cd7a8e29a4314418b1cb9c7ebc5b4a70",
     "grade": false,
     "grade_id": "cell-e7dfea15069f8382",
     "locked": true,
     "schema_version": 3,
     "solution": false,
     "task": false
    }
   },
   "source": [
    "# Ejercicio 1: Generador de Caminatas Aleatorias (Componente de DeepWalk)\n",
    "\n",
    "El algoritmo DeepWalk aprende representaciones vectoriales (embeddings) de nodos en un grafo basándose en secuencias de nodos generadas por caminatas aleatorias. Una **caminata aleatoria** comienza en un nodo y se mueve a un vecino elegido al azar, repitiendo este proceso durante un número determinado de pasos.\n",
    "\n",
    "Tu tarea es implementar una función en Python llamada `generar_caminata_aleatoria`.\n",
    "\n",
    "1.  **`generar_caminata_aleatoria(grafo: nx.Graph, nodo_inicio: int, longitud_camino: int) -> list`**:\n",
    "    *   Esta función toma tres argumentos:\n",
    "        *   `grafo`: Un objeto grafo de NetworkX (`nx.Graph`).\n",
    "        *   `nodo_inicio`: El nodo desde el cual comenzará la caminata.\n",
    "        *   `longitud_camino`: La longitud máxima de la caminata (número de nodos en la secuencia).\n",
    "    *   La función debe:\n",
    "        1.  Inicializar la caminata con el `nodo_inicio`.\n",
    "        2.  Repetir `longitud_camino - 1` veces:\n",
    "            a.  Obtener la lista de vecinos del nodo actual en la caminata.\n",
    "            b.  **Importante**: De estos vecinos, filtrar aquellos que ya han sido visitados *en la caminata actual* para evitar ciclos inmediatos y fomentar la exploración.\n",
    "            c.  Si no quedan vecinos válidos (no visitados en la caminata actual), la caminata se detiene prematuramente.\n",
    "            d.  Elegir aleatoriamente uno de los vecinos válidos.\n",
    "            e.  Añadir el vecino elegido a la caminata y actualizar el nodo actual al vecino elegido.\n",
    "    *   Debe devolver una lista de nodos que representa la caminata aleatoria generada. Por ejemplo, `[nodo_inicio, nodo2, nodo3, ...]`."
   ]
  },
  {
   "cell_type": "code",
   "execution_count": 3,
   "id": "d0f99f3a",
   "metadata": {
    "deletable": false,
    "nbgrader": {
     "cell_type": "code",
     "checksum": "fee8f7c8d46168c384ff9309aec78217",
     "grade": false,
     "grade_id": "cell-2e0ad10488c3ff5b",
     "locked": false,
     "schema_version": 3,
     "solution": true,
     "task": false
    }
   },
   "outputs": [],
   "source": [
    "import networkx as nx\n",
    "import random\n",
    "from node2vec import Node2Vec\n",
    "from gensim.models import Word2Vec, KeyedVectors\n",
    "from sklearn.decomposition import PCA\n",
    "def generar_caminata_aleatoria_solucion(grafo: nx.Graph, nodo_inicio: int, longitud_camino: int) -> list:\n",
    "    caminata = [nodo_inicio]\n",
    "    actual = nodo_inicio\n",
    "    for _ in range(longitud_camino - 1):\n",
    "        vecinos = list(grafo.neighbors(actual))\n",
    "        candidatos = [n for n in vecinos if n not in caminata]\n",
    "        if not candidatos:\n",
    "            break\n",
    "        siguiente = random.choice(candidatos)\n",
    "        caminata.append(siguiente)\n",
    "        actual = siguiente\n",
    "    return caminata\n",
    "\n",
    "g_test_caminata = nx.path_graph(5)\n",
    "nodo_inicial_test = 0\n",
    "longitud_test = 4\n",
    "random.seed(10)\n",
    "caminata_generada = generar_caminata_aleatoria_solucion(g_test_caminata, nodo_inicial_test, longitud_test)\n",
    "assert isinstance(caminata_generada, list) \n",
    "assert len(caminata_generada) > 0 \n",
    "assert caminata_generada[0] == nodo_inicial_test\n",
    "assert len(caminata_generada) <= longitud_test"
   ]
  },
  {
   "cell_type": "code",
   "execution_count": null,
   "id": "204d1ed0",
   "metadata": {
    "deletable": false,
    "editable": false,
    "nbgrader": {
     "cell_type": "code",
     "checksum": "9a723ea72d7dd542568e676376269de8",
     "grade": true,
     "grade_id": "cell-84e854bc3a35fc22",
     "locked": true,
     "points": 13,
     "schema_version": 3,
     "solution": false,
     "task": false
    }
   },
   "outputs": [],
   "source": []
  },
  {
   "cell_type": "markdown",
   "id": "7ff91493",
   "metadata": {
    "deletable": false,
    "editable": false,
    "nbgrader": {
     "cell_type": "markdown",
     "checksum": "8b8dfdf30edc14a1b1f56dec371140de",
     "grade": false,
     "grade_id": "cell-270e3b77e0827b10",
     "locked": true,
     "schema_version": 3,
     "solution": false,
     "task": false
    }
   },
   "source": [
    "# Ejercicio 2: Generación de Corpus de Caminatas (Componente de DeepWalk)\n",
    "\n",
    "Para que DeepWalk aprenda representaciones efectivas, necesita un \"corpus\" de muchas caminatas aleatorias. Este corpus se genera iniciando múltiples caminatas desde cada nodo (o un subconjunto de ellos) en el grafo.\n",
    "\n",
    "Tu tarea es implementar una función en Python llamada `generar_corpus_caminatas`. Esta función utilizará la función `generar_caminata_aleatoria` que implementaste en el ejercicio anterior (o una versión de solución si la tuya no está disponible).\n",
    "\n",
    "1.  **`generar_corpus_caminatas(grafo: nx.Graph, numero_caminatas_por_nodo: int, longitud_camino: int) -> list`**:\n",
    "    *   Esta función toma tres argumentos:\n",
    "        *   `grafo`: Un objeto grafo de NetworkX (`nx.Graph`).\n",
    "        *   `numero_caminatas_por_nodo`: El número de caminatas aleatorias que se deben generar comenzando desde *cada* nodo en el grafo.\n",
    "        *   `longitud_camino`: La longitud deseada para cada caminata individual (que se pasará a `generar_caminata_aleatoria`).\n",
    "    *   La función debe:\n",
    "        1.  Iterar sobre cada nodo en el `grafo`.\n",
    "        2.  Para cada nodo, generar `numero_caminatas_por_nodo` caminatas aleatorias utilizando la función `generar_caminata_aleatoria` (que implementaste previamente). Cada una de estas caminatas debe comenzar en el nodo actual de la iteración y tener la `longitud_camino` especificada.\n",
    "        3.  Recopilar todas las caminatas generadas en una sola lista.\n",
    "    *   Debe devolver una lista de listas, donde cada lista interna es una caminata (una secuencia de nodos). Por ejemplo: `[[camino1_nodoA], [camino2_nodoA], [camino1_nodoB], ...]`."
   ]
  },
  {
   "cell_type": "code",
   "execution_count": 4,
   "id": "b2937ac7",
   "metadata": {
    "deletable": false,
    "nbgrader": {
     "cell_type": "code",
     "checksum": "7f561cc4685d75a962a5e8939afa7b75",
     "grade": false,
     "grade_id": "cell-f8f98ef069496850",
     "locked": false,
     "schema_version": 3,
     "solution": true,
     "task": false
    }
   },
   "outputs": [],
   "source": [
    "def generar_corpus_caminatas_solucion(grafo: nx.Graph, numero_caminatas_por_nodo: int, longitud_camino: int) -> list:\n",
    "    # ─── Casos límite ────────────────────────────────────────────────────────────\n",
    "    if grafo.number_of_nodes() == 0 or numero_caminatas_por_nodo <= 0 or longitud_camino <= 0:\n",
    "        return []\n",
    "\n",
    "    # ─── Elige la función de caminata disponible (del ejercicio 1 o solución) ───\n",
    "    if \"generar_caminata_aleatoria_solucion\" in globals():\n",
    "        walk_func = globals()[\"generar_caminata_aleatoria_solucion\"]\n",
    "    else:\n",
    "        walk_func = globals()[\"generar_caminata_aleatoria\"]\n",
    "\n",
    "    # ─── Genera el corpus: se respeta orden determinista de nodos ────────────────\n",
    "    corpus = []\n",
    "    for nodo in sorted(grafo.nodes()):                 # orden fijo para el autograder\n",
    "        for _ in range(numero_caminatas_por_nodo):\n",
    "            corpus.append(walk_func(grafo, nodo, longitud_camino))\n",
    "    return corpus\n",
    "    \n",
    "g_test_corpus = nx.Graph([(0,1), (1,2)]) # Nodos 0, 1, 2\n",
    "num_caminatas_test = 2\n",
    "longitud_camino_test = 3\n",
    "random.seed(20)\n",
    "corpus_generado = generar_corpus_caminatas_solucion(g_test_corpus, num_caminatas_test, longitud_camino_test)\n",
    "expected_total_walks = g_test_corpus.number_of_nodes() * num_caminatas_test\n",
    "assert isinstance(corpus_generado, list)\n",
    "assert len(corpus_generado) == expected_total_walks\n",
    "assert len(corpus_generado[0]) > 0\n",
    "assert corpus_generado[0][0] in g_test_corpus.nodes()\n",
    "assert len(corpus_generado[0]) <= longitud_camino_test"
   ]
  },
  {
   "cell_type": "code",
   "execution_count": null,
   "id": "e7a6c380",
   "metadata": {
    "deletable": false,
    "editable": false,
    "nbgrader": {
     "cell_type": "code",
     "checksum": "a109583ecbcf4bd7043d8a01915d1b45",
     "grade": true,
     "grade_id": "cell-c9aac924385f1a6e",
     "locked": true,
     "points": 12,
     "schema_version": 3,
     "solution": false,
     "task": false
    }
   },
   "outputs": [],
   "source": []
  },
  {
   "cell_type": "markdown",
   "id": "9b9977bc",
   "metadata": {
    "deletable": false,
    "editable": false,
    "nbgrader": {
     "cell_type": "markdown",
     "checksum": "e239cec1a090157d65a9f7ba11e76a81",
     "grade": false,
     "grade_id": "cell-28fd8e4a75dcc5ab",
     "locked": true,
     "schema_version": 3,
     "solution": false,
     "task": false
    }
   },
   "source": [
    "# Ejercicio 3: Generando Embeddings de Nodos con la Librería Node2Vec\n",
    "\n",
    "**Node2Vec** es un algoritmo que aprende representaciones vectoriales (embeddings) de baja dimensionalidad para nodos en un grafo. Extiende la idea de DeepWalk controlando la estrategia de caminata aleatoria mediante dos parámetros, `p` y `q`, que permiten balancear entre exploración tipo BFS (homofilia) y DFS (características estructurales).\n",
    "\n",
    "Tu tarea es implementar una función en Python llamada `obtener_embeddings_node2vec`.\n",
    "\n",
    "1.  **`obtener_embeddings_node2vec(grafo: nx.Graph, dimensiones: int, longitud_caminata: int, num_caminatas: int, p_param: float = 1, q_param: float = 1, workers_param: int = 1) -> Word2Vec.wv`**:\n",
    "    *   Esta función toma un grafo y varios parámetros para Node2Vec.\n",
    "    *   Debe:\n",
    "        1.  Inicializar un modelo `Node2Vec` (de la librería `node2vec`) con el `grafo` y los parámetros proporcionados (`dimensions`, `walk_length`, `num_walks`, `p`, `q`, `workers`). Asegúrate de que el parámetro `quiet` esté en `True` para evitar salidas excesivas.\n",
    "        2.  Entrenar el modelo Node2Vec usando el método `fit()`. No necesitas especificar `window`, `min_count` o `sg` aquí, ya que `fit` los pasará al modelo Word2Vec subyacente con valores por defecto o los que la librería `node2vec` determine.\n",
    "        3.  Devolver los embeddings aprendidos. Estos se pueden acceder a través de `model.wv` (donde `model` es la instancia de Node2Vec después de entrenar). El tipo de retorno esperado es `gensim.models.keyedvectors.KeyedVectors`.\n",
    "\n",
    "Observación: La librería `node2vec` internamente utiliza `gensim.models.Word2Vec` para aprender los embeddings a partir de las caminatas que genera."
   ]
  },
  {
   "cell_type": "code",
   "execution_count": 15,
   "id": "cd2cecbf",
   "metadata": {
    "deletable": false,
    "nbgrader": {
     "cell_type": "code",
     "checksum": "62da3e9bcbaf09e53634ab0655efa8e6",
     "grade": false,
     "grade_id": "cell-99e08ea044c948c9",
     "locked": false,
     "schema_version": 3,
     "solution": true,
     "task": false
    }
   },
   "outputs": [],
   "source": [
    "def obtener_embeddings_node2vec_solucion(grafo: nx.Graph, \n",
    "                                         dimensiones: int, \n",
    "                                         longitud_caminata: int, \n",
    "                                         num_caminatas: int, \n",
    "                                         p_param: float = 1, \n",
    "                                         q_param: float = 1, \n",
    "                                         workers_param: int = 1) -> KeyedVectors:\n",
    "    from node2vec import Node2Vec\n",
    "    node2vec = Node2Vec(\n",
    "        grafo,\n",
    "        dimensions=dimensiones,\n",
    "        walk_length=longitud_caminata,\n",
    "        num_walks=num_caminatas,\n",
    "        p=p_param,\n",
    "        q=q_param,\n",
    "        workers=workers_param,\n",
    "        quiet=True\n",
    "    )\n",
    "    modelo = node2vec.fit()\n",
    "    return modelo.wv\n",
    "    \n",
    "g_test_n2v = nx.karate_club_graph() \n",
    "dims_test = 16\n",
    "len_walk_test = 10\n",
    "num_walks_test = 5 \n",
    "random.seed(42) # Asegurar reproducibilidad para Node2Vec también\n",
    "embeddings_wv = obtener_embeddings_node2vec_solucion(g_test_n2v, \n",
    "                                                 dimensiones=dims_test, \n",
    "                                                 longitud_caminata=len_walk_test, \n",
    "                                                 num_caminatas=num_walks_test)\n",
    "\n",
    "assert embeddings_wv is not None, \"La función no devolvió embeddings (model.wv).\"\n",
    "assert len(embeddings_wv.vectors) == g_test_n2v.number_of_nodes(), \\\n",
    "    f\"El número de vectores ({len(embeddings_wv.vectors)}) no coincide con el número de nodos ({g_test_n2v.number_of_nodes()}).\"\n",
    "assert embeddings_wv.vector_size == dims_test, \\\n",
    "    f\"La dimensionalidad de los vectores ({embeddings_wv.vector_size}) no coincide con la esperada ({dims_test}).\""
   ]
  },
  {
   "cell_type": "code",
   "execution_count": null,
   "id": "b95da8be",
   "metadata": {
    "deletable": false,
    "editable": false,
    "nbgrader": {
     "cell_type": "code",
     "checksum": "ad811472c1a876b9eb2e77b67a9716d5",
     "grade": true,
     "grade_id": "cell-eb9d698c0933a252",
     "locked": true,
     "points": 20,
     "schema_version": 3,
     "solution": false,
     "task": false
    }
   },
   "outputs": [],
   "source": []
  },
  {
   "cell_type": "code",
   "execution_count": null,
   "id": "64466a4c",
   "metadata": {},
   "outputs": [],
   "source": []
  }
 ],
 "metadata": {
  "kernelspec": {
   "display_name": "Python 3 (ipykernel)",
   "language": "python",
   "name": "python3"
  },
  "language_info": {
   "codemirror_mode": {
    "name": "ipython",
    "version": 3
   },
   "file_extension": ".py",
   "mimetype": "text/x-python",
   "name": "python",
   "nbconvert_exporter": "python",
   "pygments_lexer": "ipython3",
   "version": "3.10.6"
  }
 },
 "nbformat": 4,
 "nbformat_minor": 5
}
