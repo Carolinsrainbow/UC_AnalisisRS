{
 "cells": [
  {
   "cell_type": "markdown",
   "metadata": {
    "id": "aHyVlEk2TIGI"
   },
   "source": [
    "# Laboratorio 3 Caminos y Triángulos\n",
    "\n",
    "En este laboratorio nos ahondaremos aún más en la librería Networkx para analizar ciertas características de los grafos como son los caminos, distancia entre nodos y clustering de un grafo.\n",
    "\n",
    "\n",
    "Contenidos:\n",
    "\n",
    "1.   Camino y distancia.\n",
    "2.   Camino más corto.\n",
    "3.   Distancia promedio de un grafo.\n",
    "4.   Componentes conexas.\n",
    "5.   Triángulos.\n",
    "6.   Coeficiente de clustering.\n"
   ]
  },
  {
   "cell_type": "code",
   "execution_count": 1,
   "metadata": {
    "executionInfo": {
     "elapsed": 546,
     "status": "ok",
     "timestamp": 1706206637371,
     "user": {
      "displayName": "daniel saavedra",
      "userId": "14740289166607816099"
     },
     "user_tz": 180
    },
    "id": "gsAlWiFxSX-z"
   },
   "outputs": [],
   "source": [
    "import networkx as nx\n",
    "%matplotlib inline"
   ]
  },
  {
   "cell_type": "markdown",
   "metadata": {
    "id": "_lUHyXGWWA1w"
   },
   "source": [
    "# Creación de Grafo Simple"
   ]
  },
  {
   "cell_type": "code",
   "execution_count": 2,
   "metadata": {
    "colab": {
     "base_uri": "https://localhost:8080/",
     "height": 516
    },
    "executionInfo": {
     "elapsed": 572,
     "status": "ok",
     "timestamp": 1706131649301,
     "user": {
      "displayName": "daniel saavedra",
      "userId": "14740289166607816099"
     },
     "user_tz": 180
    },
    "id": "-_hM0is2WALi",
    "outputId": "97d14186-a9ae-4b36-98c6-a380d58ffe06"
   },
   "outputs": [
    {
     "data": {
      "image/png": "[encoded data removed]",
      "text/plain": [
       "<Figure size 640x480 with 1 Axes>"
      ]
     },
     "metadata": {},
     "output_type": "display_data"
    }
   ],
   "source": [
    "\n",
    "\n",
    "G = nx.Graph()\n",
    "\n",
    "G.add_nodes_from([1,2,3,4])\n",
    "\n",
    "G.add_edges_from([(1,2),(2,3),(1,3),(1,4)])\n",
    "\n",
    "nx.draw(G, with_labels=True)\n"
   ]
  },
  {
   "cell_type": "markdown",
   "metadata": {
    "id": "d0n6CWsISYJd"
   },
   "source": [
    "# Caminos\n",
    "\n",
    "Un camino en una red es una secuencia de aristas que conectan dos nodos. En este ejemplo simple, podemos ver fácilmente que hay al menos un camino que conecta los nodos 3 y 4. Podemos verificar esto con NetworkX:\n"
   ]
  },
  {
   "cell_type": "code",
   "execution_count": 3,
   "metadata": {
    "colab": {
     "base_uri": "https://localhost:8080/"
    },
    "executionInfo": {
     "elapsed": 201,
     "status": "ok",
     "timestamp": 1706131651217,
     "user": {
      "displayName": "daniel saavedra",
      "userId": "14740289166607816099"
     },
     "user_tz": 180
    },
    "id": "bNYGTOrXSagd",
    "outputId": "7ce0c2a3-874d-4326-fb2a-80de73faaad0"
   },
   "outputs": [
    {
     "data": {
      "text/plain": [
       "True"
      ]
     },
     "execution_count": 3,
     "metadata": {},
     "output_type": "execute_result"
    }
   ],
   "source": [
    "nx.has_path(G, 3, 4)"
   ]
  },
  {
   "cell_type": "markdown",
   "metadata": {
    "id": "Cgdih5DYVfyd"
   },
   "source": [
    "Un camino simple es aquel sin ciclos. Si permitiéramos ciclos, habría infinitos caminos porque siempre se podría dar la vuelta al ciclo tantas veces como se desee.\n",
    "\n",
    "Puede haber más de un camino entre dos nodos. Nuevamente, considerando los nodos 3 y 4, hay dos \"caminos simples\" de este tipo:\n",
    "\n"
   ]
  },
  {
   "cell_type": "code",
   "execution_count": 4,
   "metadata": {
    "colab": {
     "base_uri": "https://localhost:8080/"
    },
    "executionInfo": {
     "elapsed": 228,
     "status": "ok",
     "timestamp": 1706131653051,
     "user": {
      "displayName": "daniel saavedra",
      "userId": "14740289166607816099"
     },
     "user_tz": 180
    },
    "id": "PvcCR4yvV4e1",
    "outputId": "8bb6fc1e-57fa-40e8-98b8-255f2cb41d56"
   },
   "outputs": [
    {
     "data": {
      "text/plain": [
       "[[3, 2, 1, 4], [3, 1, 4]]"
      ]
     },
     "execution_count": 4,
     "metadata": {},
     "output_type": "execute_result"
    }
   ],
   "source": [
    "list(nx.all_simple_paths(G, 3, 4))"
   ]
  },
  {
   "cell_type": "markdown",
   "metadata": {
    "id": "-CmC-Rr2V4vD"
   },
   "source": [
    "## Camino más corto\n",
    "\n",
    "\n",
    "\n",
    "A menudo, estamos más interesados en los caminos más cortos. En una red no ponderada, el camino más corto es aquel con la menor cantidad de aristas. Podemos ver que de los dos caminos simples entre los nodos 3 y 4, uno es más corto que el otro. Podemos obtener este camino más corto con una sola función de NetworkX:\n"
   ]
  },
  {
   "cell_type": "code",
   "execution_count": 5,
   "metadata": {
    "colab": {
     "base_uri": "https://localhost:8080/"
    },
    "executionInfo": {
     "elapsed": 282,
     "status": "ok",
     "timestamp": 1706131655229,
     "user": {
      "displayName": "daniel saavedra",
      "userId": "14740289166607816099"
     },
     "user_tz": 180
    },
    "id": "xy6PsDLPWGxm",
    "outputId": "95fdad13-8248-4bb4-9fad-bafc7fae1d17"
   },
   "outputs": [
    {
     "data": {
      "text/plain": [
       "[3, 1, 4]"
      ]
     },
     "execution_count": 5,
     "metadata": {},
     "output_type": "execute_result"
    }
   ],
   "source": [
    "nx.shortest_path(G, 3, 4)"
   ]
  },
  {
   "cell_type": "markdown",
   "metadata": {
    "id": "qcPpX2YIWG6N"
   },
   "source": [
    "Si deseamos el largo de este camino más corto, también hay una función para esto."
   ]
  },
  {
   "cell_type": "code",
   "execution_count": 6,
   "metadata": {
    "colab": {
     "base_uri": "https://localhost:8080/"
    },
    "executionInfo": {
     "elapsed": 279,
     "status": "ok",
     "timestamp": 1706131658921,
     "user": {
      "displayName": "daniel saavedra",
      "userId": "14740289166607816099"
     },
     "user_tz": 180
    },
    "id": "h6jR0ybKWLjJ",
    "outputId": "1bfa7714-c57d-48a6-82a5-ee266dce7461"
   },
   "outputs": [
    {
     "data": {
      "text/plain": [
       "2"
      ]
     },
     "execution_count": 6,
     "metadata": {},
     "output_type": "execute_result"
    }
   ],
   "source": [
    "nx.shortest_path_length(G, 3, 4)"
   ]
  },
  {
   "cell_type": "markdown",
   "metadata": {
    "id": "Is2f5BteRf9J"
   },
   "source": [
    "Observemos que el largo del camino se define como el numero de aristas que tengo que recorrer para llegar al nodo deseado. En otras palabras es la cantidad de nodos en el camino menos 1."
   ]
  },
  {
   "cell_type": "code",
   "execution_count": 7,
   "metadata": {
    "colab": {
     "base_uri": "https://localhost:8080/"
    },
    "executionInfo": {
     "elapsed": 220,
     "status": "ok",
     "timestamp": 1706131662044,
     "user": {
      "displayName": "daniel saavedra",
      "userId": "14740289166607816099"
     },
     "user_tz": 180
    },
    "id": "uEC4IsPGRukc",
    "outputId": "3968bd92-431a-4463-afd7-643df2e93894"
   },
   "outputs": [
    {
     "data": {
      "text/plain": [
       "True"
      ]
     },
     "execution_count": 7,
     "metadata": {},
     "output_type": "execute_result"
    }
   ],
   "source": [
    "nx.shortest_path_length(G, 3, 4) == len(nx.shortest_path(G, 3, 4)) - 1"
   ]
  },
  {
   "cell_type": "markdown",
   "metadata": {
    "id": "saW8ueioWwdo"
   },
   "source": [
    "## Distancia Promedio de un Grafo\n",
    "\n",
    "Comprender las distancia dentro de un grafo nos es útil para comprender las distancias que recorren los flujos dentro de él.\n",
    "Es por esto que saber la distancia promedio nos da cierta idea del comportamiento dentro del grafo. Esta distancia promedio la podemos calcular siempre y cuando nuestro grafo sea conexo."
   ]
  },
  {
   "cell_type": "code",
   "execution_count": 8,
   "metadata": {
    "colab": {
     "base_uri": "https://localhost:8080/"
    },
    "executionInfo": {
     "elapsed": 269,
     "status": "ok",
     "timestamp": 1706131665341,
     "user": {
      "displayName": "daniel saavedra",
      "userId": "14740289166607816099"
     },
     "user_tz": 180
    },
    "id": "8HrqLto7WwSx",
    "outputId": "7c6b15a8-3808-47f8-fee3-61352f157142"
   },
   "outputs": [
    {
     "data": {
      "text/plain": [
       "1.3333333333333333"
      ]
     },
     "execution_count": 8,
     "metadata": {},
     "output_type": "execute_result"
    }
   ],
   "source": [
    "nx.average_shortest_path_length(G)"
   ]
  },
  {
   "cell_type": "markdown",
   "metadata": {
    "id": "DhSztCqjWLqT"
   },
   "source": [
    "# Componentes conexas\n",
    " En la red simple anterior, podemos ver que para cada par de nodos, podemos encontrar un camino que los conecta. Esta es la definición de un grafo conectado. Podemos verificar esta propiedad para un grafo dado:\n"
   ]
  },
  {
   "cell_type": "code",
   "execution_count": 9,
   "metadata": {
    "colab": {
     "base_uri": "https://localhost:8080/"
    },
    "executionInfo": {
     "elapsed": 221,
     "status": "ok",
     "timestamp": 1706130199235,
     "user": {
      "displayName": "daniel saavedra",
      "userId": "14740289166607816099"
     },
     "user_tz": 180
    },
    "id": "cf6XVHksWT1-",
    "outputId": "6f34b208-70b9-4f24-8c70-acee5d42ba5f"
   },
   "outputs": [
    {
     "data": {
      "text/plain": [
       "True"
      ]
     },
     "execution_count": 9,
     "metadata": {},
     "output_type": "execute_result"
    }
   ],
   "source": [
    "nx.is_connected(G)"
   ]
  },
  {
   "cell_type": "markdown",
   "metadata": {
    "id": "jyeNWMLLWT7v"
   },
   "source": [
    "No todos los grafos deben estar totalmente conectado, ver siguiente ejemplo."
   ]
  },
  {
   "cell_type": "code",
   "execution_count": 10,
   "metadata": {
    "colab": {
     "base_uri": "https://localhost:8080/",
     "height": 533
    },
    "executionInfo": {
     "elapsed": 266,
     "status": "ok",
     "timestamp": 1706130280316,
     "user": {
      "displayName": "daniel saavedra",
      "userId": "14740289166607816099"
     },
     "user_tz": 180
    },
    "id": "fB0J1xNjWXKT",
    "outputId": "a13b0247-1d16-4361-a20f-0042d5cd7e38"
   },
   "outputs": [
    {
     "name": "stdout",
     "output_type": "stream",
     "text": [
      "El grafo G esta conectado: False\n"
     ]
    },
    {
     "data": {
      "image/png": "[encoded data removed]",
      "text/plain": [
       "<Figure size 640x480 with 1 Axes>"
      ]
     },
     "metadata": {},
     "output_type": "display_data"
    }
   ],
   "source": [
    "G = nx.Graph()\n",
    "\n",
    "nx.add_cycle(G, (1,2,3))\n",
    "G.add_edge(4,5)\n",
    "\n",
    "nx.draw(G, with_labels=True)\n",
    "print(\"El grafo G esta conectado:\", nx.is_connected(G))"
   ]
  },
  {
   "cell_type": "markdown",
   "metadata": {
    "id": "M3dgiN7GSnoJ"
   },
   "source": [
    "Y NetworkX generará un error si solicitas un camino entre nodos donde no existe ninguno:\n"
   ]
  },
  {
   "cell_type": "code",
   "execution_count": 11,
   "metadata": {
    "colab": {
     "base_uri": "https://localhost:8080/",
     "height": 322
    },
    "executionInfo": {
     "elapsed": 207,
     "status": "error",
     "timestamp": 1706130333591,
     "user": {
      "displayName": "daniel saavedra",
      "userId": "14740289166607816099"
     },
     "user_tz": 180
    },
    "id": "XbX0xPaIStSg",
    "outputId": "c9244477-cf24-44db-ffd2-23afbd995d45"
   },
   "outputs": [
    {
     "ename": "NetworkXNoPath",
     "evalue": "No path between 3 and 5.",
     "output_type": "error",
     "traceback": [
      "\u001b[0;31m---------------------------------------------------------------------------\u001b[0m",
      "\u001b[0;31mNetworkXNoPath\u001b[0m                            Traceback (most recent call last)",
      "Cell \u001b[0;32mIn[11], line 1\u001b[0m\n\u001b[0;32m----> 1\u001b[0m \u001b[43mnx\u001b[49m\u001b[38;5;241;43m.\u001b[39;49m\u001b[43mshortest_path\u001b[49m\u001b[43m(\u001b[49m\u001b[43mG\u001b[49m\u001b[43m,\u001b[49m\u001b[43m \u001b[49m\u001b[38;5;241;43m3\u001b[39;49m\u001b[43m,\u001b[49m\u001b[43m \u001b[49m\u001b[38;5;241;43m5\u001b[39;49m\u001b[43m)\u001b[49m\n",
      "File \u001b[0;32m<class 'networkx.utils.decorators.argmap'> compilation 20:3\u001b[0m, in \u001b[0;36margmap_shortest_path_17\u001b[0;34m(G, source, target, weight, method, backend, **backend_kwargs)\u001b[0m\n\u001b[1;32m      1\u001b[0m \u001b[38;5;28;01mimport\u001b[39;00m \u001b[38;5;21;01mbz2\u001b[39;00m\n\u001b[1;32m      2\u001b[0m \u001b[38;5;28;01mimport\u001b[39;00m \u001b[38;5;21;01mcollections\u001b[39;00m\n\u001b[0;32m----> 3\u001b[0m \u001b[38;5;28;01mimport\u001b[39;00m \u001b[38;5;21;01mgzip\u001b[39;00m\n\u001b[1;32m      4\u001b[0m \u001b[38;5;28;01mimport\u001b[39;00m \u001b[38;5;21;01minspect\u001b[39;00m\n\u001b[1;32m      5\u001b[0m \u001b[38;5;28;01mimport\u001b[39;00m \u001b[38;5;21;01mitertools\u001b[39;00m\n",
      "File \u001b[0;32m/opt/conda/lib/python3.10/site-packages/networkx/utils/backends.py:967\u001b[0m, in \u001b[0;36m_dispatchable.__call__\u001b[0;34m(self, backend, *args, **kwargs)\u001b[0m\n\u001b[1;32m    965\u001b[0m     \u001b[38;5;28;01mif\u001b[39;00m backend \u001b[38;5;129;01mis\u001b[39;00m \u001b[38;5;129;01mnot\u001b[39;00m \u001b[38;5;28;01mNone\u001b[39;00m \u001b[38;5;129;01mand\u001b[39;00m backend \u001b[38;5;241m!=\u001b[39m \u001b[38;5;124m\"\u001b[39m\u001b[38;5;124mnetworkx\u001b[39m\u001b[38;5;124m\"\u001b[39m:\n\u001b[1;32m    966\u001b[0m         \u001b[38;5;28;01mraise\u001b[39;00m \u001b[38;5;167;01mImportError\u001b[39;00m(\u001b[38;5;124mf\u001b[39m\u001b[38;5;124m\"\u001b[39m\u001b[38;5;124m'\u001b[39m\u001b[38;5;132;01m{\u001b[39;00mbackend\u001b[38;5;132;01m}\u001b[39;00m\u001b[38;5;124m'\u001b[39m\u001b[38;5;124m backend is not installed\u001b[39m\u001b[38;5;124m\"\u001b[39m)\n\u001b[0;32m--> 967\u001b[0m     \u001b[38;5;28;01mreturn\u001b[39;00m \u001b[38;5;28;43mself\u001b[39;49m\u001b[38;5;241;43m.\u001b[39;49m\u001b[43morig_func\u001b[49m\u001b[43m(\u001b[49m\u001b[38;5;241;43m*\u001b[39;49m\u001b[43margs\u001b[49m\u001b[43m,\u001b[49m\u001b[43m \u001b[49m\u001b[38;5;241;43m*\u001b[39;49m\u001b[38;5;241;43m*\u001b[39;49m\u001b[43mkwargs\u001b[49m\u001b[43m)\u001b[49m\n\u001b[1;32m    969\u001b[0m \u001b[38;5;66;03m# Use `backend_name` in this function instead of `backend`.\u001b[39;00m\n\u001b[1;32m    970\u001b[0m \u001b[38;5;66;03m# This is purely for aesthetics and to make it easier to search for this\u001b[39;00m\n\u001b[1;32m    971\u001b[0m \u001b[38;5;66;03m# variable since \"backend\" is used in many comments and log/error messages.\u001b[39;00m\n\u001b[1;32m    972\u001b[0m backend_name \u001b[38;5;241m=\u001b[39m backend\n",
      "File \u001b[0;32m/opt/conda/lib/python3.10/site-packages/networkx/algorithms/shortest_paths/generic.py:183\u001b[0m, in \u001b[0;36mshortest_path\u001b[0;34m(G, source, target, weight, method)\u001b[0m\n\u001b[1;32m    180\u001b[0m \u001b[38;5;28;01melse\u001b[39;00m:\n\u001b[1;32m    181\u001b[0m     \u001b[38;5;66;03m# Find shortest source-target path.\u001b[39;00m\n\u001b[1;32m    182\u001b[0m     \u001b[38;5;28;01mif\u001b[39;00m method \u001b[38;5;241m==\u001b[39m \u001b[38;5;124m\"\u001b[39m\u001b[38;5;124munweighted\u001b[39m\u001b[38;5;124m\"\u001b[39m:\n\u001b[0;32m--> 183\u001b[0m         paths \u001b[38;5;241m=\u001b[39m \u001b[43mnx\u001b[49m\u001b[38;5;241;43m.\u001b[39;49m\u001b[43mbidirectional_shortest_path\u001b[49m\u001b[43m(\u001b[49m\u001b[43mG\u001b[49m\u001b[43m,\u001b[49m\u001b[43m \u001b[49m\u001b[43msource\u001b[49m\u001b[43m,\u001b[49m\u001b[43m \u001b[49m\u001b[43mtarget\u001b[49m\u001b[43m)\u001b[49m\n\u001b[1;32m    184\u001b[0m     \u001b[38;5;28;01melif\u001b[39;00m method \u001b[38;5;241m==\u001b[39m \u001b[38;5;124m\"\u001b[39m\u001b[38;5;124mdijkstra\u001b[39m\u001b[38;5;124m\"\u001b[39m:\n\u001b[1;32m    185\u001b[0m         _, paths \u001b[38;5;241m=\u001b[39m nx\u001b[38;5;241m.\u001b[39mbidirectional_dijkstra(G, source, target, weight)\n",
      "File \u001b[0;32m<class 'networkx.utils.decorators.argmap'> compilation 24:3\u001b[0m, in \u001b[0;36margmap_bidirectional_shortest_path_21\u001b[0;34m(G, source, target, backend, **backend_kwargs)\u001b[0m\n\u001b[1;32m      1\u001b[0m \u001b[38;5;28;01mimport\u001b[39;00m \u001b[38;5;21;01mbz2\u001b[39;00m\n\u001b[1;32m      2\u001b[0m \u001b[38;5;28;01mimport\u001b[39;00m \u001b[38;5;21;01mcollections\u001b[39;00m\n\u001b[0;32m----> 3\u001b[0m \u001b[38;5;28;01mimport\u001b[39;00m \u001b[38;5;21;01mgzip\u001b[39;00m\n\u001b[1;32m      4\u001b[0m \u001b[38;5;28;01mimport\u001b[39;00m \u001b[38;5;21;01minspect\u001b[39;00m\n\u001b[1;32m      5\u001b[0m \u001b[38;5;28;01mimport\u001b[39;00m \u001b[38;5;21;01mitertools\u001b[39;00m\n",
      "File \u001b[0;32m/opt/conda/lib/python3.10/site-packages/networkx/utils/backends.py:967\u001b[0m, in \u001b[0;36m_dispatchable.__call__\u001b[0;34m(self, backend, *args, **kwargs)\u001b[0m\n\u001b[1;32m    965\u001b[0m     \u001b[38;5;28;01mif\u001b[39;00m backend \u001b[38;5;129;01mis\u001b[39;00m \u001b[38;5;129;01mnot\u001b[39;00m \u001b[38;5;28;01mNone\u001b[39;00m \u001b[38;5;129;01mand\u001b[39;00m backend \u001b[38;5;241m!=\u001b[39m \u001b[38;5;124m\"\u001b[39m\u001b[38;5;124mnetworkx\u001b[39m\u001b[38;5;124m\"\u001b[39m:\n\u001b[1;32m    966\u001b[0m         \u001b[38;5;28;01mraise\u001b[39;00m \u001b[38;5;167;01mImportError\u001b[39;00m(\u001b[38;5;124mf\u001b[39m\u001b[38;5;124m\"\u001b[39m\u001b[38;5;124m'\u001b[39m\u001b[38;5;132;01m{\u001b[39;00mbackend\u001b[38;5;132;01m}\u001b[39;00m\u001b[38;5;124m'\u001b[39m\u001b[38;5;124m backend is not installed\u001b[39m\u001b[38;5;124m\"\u001b[39m)\n\u001b[0;32m--> 967\u001b[0m     \u001b[38;5;28;01mreturn\u001b[39;00m \u001b[38;5;28;43mself\u001b[39;49m\u001b[38;5;241;43m.\u001b[39;49m\u001b[43morig_func\u001b[49m\u001b[43m(\u001b[49m\u001b[38;5;241;43m*\u001b[39;49m\u001b[43margs\u001b[49m\u001b[43m,\u001b[49m\u001b[43m \u001b[49m\u001b[38;5;241;43m*\u001b[39;49m\u001b[38;5;241;43m*\u001b[39;49m\u001b[43mkwargs\u001b[49m\u001b[43m)\u001b[49m\n\u001b[1;32m    969\u001b[0m \u001b[38;5;66;03m# Use `backend_name` in this function instead of `backend`.\u001b[39;00m\n\u001b[1;32m    970\u001b[0m \u001b[38;5;66;03m# This is purely for aesthetics and to make it easier to search for this\u001b[39;00m\n\u001b[1;32m    971\u001b[0m \u001b[38;5;66;03m# variable since \"backend\" is used in many comments and log/error messages.\u001b[39;00m\n\u001b[1;32m    972\u001b[0m backend_name \u001b[38;5;241m=\u001b[39m backend\n",
      "File \u001b[0;32m/opt/conda/lib/python3.10/site-packages/networkx/algorithms/shortest_paths/unweighted.py:250\u001b[0m, in \u001b[0;36mbidirectional_shortest_path\u001b[0;34m(G, source, target)\u001b[0m\n\u001b[1;32m    247\u001b[0m     \u001b[38;5;28;01mraise\u001b[39;00m nx\u001b[38;5;241m.\u001b[39mNodeNotFound(\u001b[38;5;124mf\u001b[39m\u001b[38;5;124m\"\u001b[39m\u001b[38;5;124mTarget \u001b[39m\u001b[38;5;132;01m{\u001b[39;00mtarget\u001b[38;5;132;01m}\u001b[39;00m\u001b[38;5;124m is not in G\u001b[39m\u001b[38;5;124m\"\u001b[39m)\n\u001b[1;32m    249\u001b[0m \u001b[38;5;66;03m# call helper to do the real work\u001b[39;00m\n\u001b[0;32m--> 250\u001b[0m results \u001b[38;5;241m=\u001b[39m \u001b[43m_bidirectional_pred_succ\u001b[49m\u001b[43m(\u001b[49m\u001b[43mG\u001b[49m\u001b[43m,\u001b[49m\u001b[43m \u001b[49m\u001b[43msource\u001b[49m\u001b[43m,\u001b[49m\u001b[43m \u001b[49m\u001b[43mtarget\u001b[49m\u001b[43m)\u001b[49m\n\u001b[1;32m    251\u001b[0m pred, succ, w \u001b[38;5;241m=\u001b[39m results\n\u001b[1;32m    253\u001b[0m \u001b[38;5;66;03m# build path from pred+w+succ\u001b[39;00m\n",
      "File \u001b[0;32m/opt/conda/lib/python3.10/site-packages/networkx/algorithms/shortest_paths/unweighted.py:318\u001b[0m, in \u001b[0;36m_bidirectional_pred_succ\u001b[0;34m(G, source, target)\u001b[0m\n\u001b[1;32m    315\u001b[0m                 \u001b[38;5;28;01mif\u001b[39;00m w \u001b[38;5;129;01min\u001b[39;00m pred:  \u001b[38;5;66;03m# found path\u001b[39;00m\n\u001b[1;32m    316\u001b[0m                     \u001b[38;5;28;01mreturn\u001b[39;00m pred, succ, w\n\u001b[0;32m--> 318\u001b[0m \u001b[38;5;28;01mraise\u001b[39;00m nx\u001b[38;5;241m.\u001b[39mNetworkXNoPath(\u001b[38;5;124mf\u001b[39m\u001b[38;5;124m\"\u001b[39m\u001b[38;5;124mNo path between \u001b[39m\u001b[38;5;132;01m{\u001b[39;00msource\u001b[38;5;132;01m}\u001b[39;00m\u001b[38;5;124m and \u001b[39m\u001b[38;5;132;01m{\u001b[39;00mtarget\u001b[38;5;132;01m}\u001b[39;00m\u001b[38;5;124m.\u001b[39m\u001b[38;5;124m\"\u001b[39m)\n",
      "\u001b[0;31mNetworkXNoPath\u001b[0m: No path between 3 and 5."
     ]
    }
   ],
   "source": [
    "nx.shortest_path(G, 3, 5)"
   ]
  },
  {
   "cell_type": "markdown",
   "metadata": {
    "id": "V0-oN9tdWXSM"
   },
   "source": [
    "## Número de Componentes Conexas\n",
    "\n",
    "Visualmente, podemos identificar dos componentes conexas en nuestro grafo. Verifiquemos esto:\n"
   ]
  },
  {
   "cell_type": "code",
   "execution_count": 12,
   "metadata": {
    "colab": {
     "base_uri": "https://localhost:8080/"
    },
    "executionInfo": {
     "elapsed": 215,
     "status": "ok",
     "timestamp": 1706130427734,
     "user": {
      "displayName": "daniel saavedra",
      "userId": "14740289166607816099"
     },
     "user_tz": 180
    },
    "id": "5QJajvl8WrFG",
    "outputId": "066f5f22-429c-412e-98d9-af3d003ffda8"
   },
   "outputs": [
    {
     "data": {
      "text/plain": [
       "2"
      ]
     },
     "execution_count": 12,
     "metadata": {},
     "output_type": "execute_result"
    }
   ],
   "source": [
    "nx.number_connected_components(G)"
   ]
  },
  {
   "cell_type": "markdown",
   "metadata": {
    "id": "w3jLrBG4TEOy"
   },
   "source": [
    "La función `nx.connected_components()` toma un grafo y devuelve una lista de conjuntos de nombres de nodos, un conjunto de este tipo por cada componente conectado. Verifica que los dos conjuntos en la siguiente lista correspondan a las dos componentes conexas en el dibujo del grafo anterior:\n"
   ]
  },
  {
   "cell_type": "code",
   "execution_count": 13,
   "metadata": {
    "colab": {
     "base_uri": "https://localhost:8080/"
    },
    "executionInfo": {
     "elapsed": 220,
     "status": "ok",
     "timestamp": 1706130474936,
     "user": {
      "displayName": "daniel saavedra",
      "userId": "14740289166607816099"
     },
     "user_tz": 180
    },
    "id": "9aQ-u3dnTEIY",
    "outputId": "92340f80-b05a-4c4a-8642-23893c40a704"
   },
   "outputs": [
    {
     "data": {
      "text/plain": [
       "[{1, 2, 3}, {4, 5}]"
      ]
     },
     "execution_count": 13,
     "metadata": {},
     "output_type": "execute_result"
    }
   ],
   "source": [
    "list(nx.connected_components(G))"
   ]
  },
  {
   "cell_type": "markdown",
   "metadata": {
    "id": "jy-TujwgTD98"
   },
   "source": [
    "A menudo, nos interesa la componente conexa más grande, que a veces se denomina núcleo de la red. Podemos hacer uso de la función incorporada max de Python para obtener la componente conexa más grande. Por defecto, la función max de Python ordena las cosas en orden lexicográfico (es decir, alfabético), lo cual no es útil aquí. Queremos la componente conexa mayor cuando se ordena en función de sus tamaños, así que pasamos len como una función de clave:\n"
   ]
  },
  {
   "cell_type": "code",
   "execution_count": 14,
   "metadata": {
    "colab": {
     "base_uri": "https://localhost:8080/"
    },
    "executionInfo": {
     "elapsed": 218,
     "status": "ok",
     "timestamp": 1706130626211,
     "user": {
      "displayName": "daniel saavedra",
      "userId": "14740289166607816099"
     },
     "user_tz": 180
    },
    "id": "R44mQ8x1TD2o",
    "outputId": "23063220-b336-4d80-f1b0-9215cd7bb688"
   },
   "outputs": [
    {
     "data": {
      "text/plain": [
       "{1, 2, 3}"
      ]
     },
     "execution_count": 14,
     "metadata": {},
     "output_type": "execute_result"
    }
   ],
   "source": [
    "max(nx.connected_components(G), key=len)"
   ]
  },
  {
   "cell_type": "markdown",
   "metadata": {
    "id": "S1XCxnMOTDam"
   },
   "source": [
    "Si bien a menudo es suficiente tener la lista de nombres de los nodos, a veces necesitamos el subgrafo real que consiste en la componente conexa más grande. Una forma de obtener esto es pasar la lista de nombres de nodos a la función `G.subgraph()`:\n"
   ]
  },
  {
   "cell_type": "code",
   "execution_count": 15,
   "metadata": {
    "colab": {
     "base_uri": "https://localhost:8080/",
     "height": 516
    },
    "executionInfo": {
     "elapsed": 233,
     "status": "ok",
     "timestamp": 1706130892845,
     "user": {
      "displayName": "daniel saavedra",
      "userId": "14740289166607816099"
     },
     "user_tz": 180
    },
    "id": "BaPfSaUCTDMZ",
    "outputId": "ad624b1a-8e29-45e2-b2a2-48fb588a9939"
   },
   "outputs": [
    {
     "data": {
      "image/png": "[encoded data removed]",
      "text/plain": [
       "<Figure size 640x480 with 1 Axes>"
      ]
     },
     "metadata": {},
     "output_type": "display_data"
    }
   ],
   "source": [
    "core_nodes = max(nx.connected_components(G), key=len)\n",
    "core = G.subgraph(core_nodes)\n",
    "\n",
    "nx.draw(core, with_labels=True)"
   ]
  },
  {
   "cell_type": "markdown",
   "metadata": {
    "id": "kbPE-X-fUFSO"
   },
   "source": [
    "# 3. Caminos y componentes en grafos dirigidos\n",
    "\n",
    "Extendamos estas ideas sobre caminos y componentes conectados a grafos dirigidos.\n"
   ]
  },
  {
   "cell_type": "code",
   "execution_count": 16,
   "metadata": {
    "colab": {
     "base_uri": "https://localhost:8080/",
     "height": 516
    },
    "executionInfo": {
     "elapsed": 604,
     "status": "ok",
     "timestamp": 1706131026913,
     "user": {
      "displayName": "daniel saavedra",
      "userId": "14740289166607816099"
     },
     "user_tz": 180
    },
    "id": "0jLamAWDUFF5",
    "outputId": "c4894a3c-4aff-49fe-dc06-6192a2f0b628"
   },
   "outputs": [
    {
     "data": {
      "image/png": "[encoded data removed]",
      "text/plain": [
       "<Figure size 640x480 with 1 Axes>"
      ]
     },
     "metadata": {},
     "output_type": "display_data"
    }
   ],
   "source": [
    "D = nx.DiGraph()\n",
    "D.add_edges_from([\n",
    "    (1,2),\n",
    "    (2,3),\n",
    "    (3,2), (3,4), (3,5),\n",
    "    (4,2), (4,5), (4,6),\n",
    "    (5,6),\n",
    "    (6,4),\n",
    "])\n",
    "nx.draw(D, with_labels=True)"
   ]
  },
  {
   "cell_type": "markdown",
   "metadata": {
    "id": "tW_CADilUE_r"
   },
   "source": [
    "Sabemos que en un grafo dirigido, una arista desde un nodo arbitrario  `𝑢`  hasta un nodo arbitrario  `𝑣`  no implica que exista una arista desde  `𝑣`  hasta  `𝑢` . Dado que los caminos deben seguir la dirección de las aristas en los grafos dirigidos, la misma asimetría se aplica para los caminos. Observa que este grafo tiene un camino de 1 a 4, pero no en la dirección inversa."
   ]
  },
  {
   "cell_type": "code",
   "execution_count": 17,
   "metadata": {
    "colab": {
     "base_uri": "https://localhost:8080/"
    },
    "executionInfo": {
     "elapsed": 275,
     "status": "ok",
     "timestamp": 1706131029446,
     "user": {
      "displayName": "daniel saavedra",
      "userId": "14740289166607816099"
     },
     "user_tz": 180
    },
    "id": "NQota_G_UE4X",
    "outputId": "c543b488-16dc-4f4d-a622-54a7fc016ba1"
   },
   "outputs": [
    {
     "name": "stdout",
     "output_type": "stream",
     "text": [
      "True\n",
      "False\n"
     ]
    }
   ],
   "source": [
    "print(nx.has_path(D, 1, 4))\n",
    "print(nx.has_path(D, 4, 1))"
   ]
  },
  {
   "cell_type": "markdown",
   "metadata": {
    "id": "L6vkM_o2UExI"
   },
   "source": [
    " Las demás funciones de NetworkX que tratan con caminos también tienen en cuenta esta asimetría:\n"
   ]
  },
  {
   "cell_type": "code",
   "execution_count": 18,
   "metadata": {
    "colab": {
     "base_uri": "https://localhost:8080/"
    },
    "executionInfo": {
     "elapsed": 233,
     "status": "ok",
     "timestamp": 1706131079382,
     "user": {
      "displayName": "daniel saavedra",
      "userId": "14740289166607816099"
     },
     "user_tz": 180
    },
    "id": "6KXI1cXSUErF",
    "outputId": "c2b553cf-4858-4239-d8c7-5dd1dcf7549c"
   },
   "outputs": [
    {
     "name": "stdout",
     "output_type": "stream",
     "text": [
      "[2, 3, 5]\n",
      "[5, 6, 4, 2]\n"
     ]
    }
   ],
   "source": [
    "print(nx.shortest_path(D, 2, 5))\n",
    "print(nx.shortest_path(D, 5, 2))"
   ]
  },
  {
   "cell_type": "markdown",
   "metadata": {
    "id": "ILhzQsp2UEkp"
   },
   "source": [
    "## Componentes Conexas en grafo dirigido\n",
    "Las redes dirigidas tienen dos tipos de conectividad. Fuertemente conectado significa que existe un camino dirigido entre cada par de nodos, es decir, que desde cualquier nodo podemos llegar a cualquier otro nodo siguiendo la dirección de las aristas. Piensa en automóviles en una red de calles de sentido único: no pueden conducir contra el flujo del tráfico."
   ]
  },
  {
   "cell_type": "code",
   "execution_count": 19,
   "metadata": {
    "colab": {
     "base_uri": "https://localhost:8080/"
    },
    "executionInfo": {
     "elapsed": 228,
     "status": "ok",
     "timestamp": 1706131169179,
     "user": {
      "displayName": "daniel saavedra",
      "userId": "14740289166607816099"
     },
     "user_tz": 180
    },
    "id": "h-4YcfSaVxMK",
    "outputId": "c6eb5cc7-3110-4661-f08e-4fc3cf88e706"
   },
   "outputs": [
    {
     "data": {
      "text/plain": [
       "False"
      ]
     },
     "execution_count": 19,
     "metadata": {},
     "output_type": "execute_result"
    }
   ],
   "source": [
    "nx.is_strongly_connected(D)"
   ]
  },
  {
   "cell_type": "markdown",
   "metadata": {
    "id": "8NL4R5VBVxEK"
   },
   "source": [
    "\n",
    "Débilmente conectado significa que existe un camino entre cada par de nodos, independientemente de la dirección. Piensa en peatones en una red de calles de sentido único: caminan por las aceras, por lo que no les importa la dirección del tráfico.\n",
    "\n"
   ]
  },
  {
   "cell_type": "code",
   "execution_count": 20,
   "metadata": {
    "colab": {
     "base_uri": "https://localhost:8080/"
    },
    "executionInfo": {
     "elapsed": 206,
     "status": "ok",
     "timestamp": 1706131202272,
     "user": {
      "displayName": "daniel saavedra",
      "userId": "14740289166607816099"
     },
     "user_tz": 180
    },
    "id": "gO_R54JTVw9J",
    "outputId": "d0aa6b62-b0c9-4a93-b796-039440ce3246"
   },
   "outputs": [
    {
     "data": {
      "text/plain": [
       "True"
      ]
     },
     "execution_count": 20,
     "metadata": {},
     "output_type": "execute_result"
    }
   ],
   "source": [
    "nx.is_weakly_connected(D)"
   ]
  },
  {
   "cell_type": "markdown",
   "metadata": {
    "id": "B2mkC5sZVw1P"
   },
   "source": [
    "En el caso de grafos dirigidos, en vez de utilizar nx.connected_components tendremos que utilizar o bien nx.weakly_connected_components o nx.strongly_connected_components para definir las componentes conexas."
   ]
  },
  {
   "cell_type": "code",
   "execution_count": 21,
   "metadata": {
    "colab": {
     "base_uri": "https://localhost:8080/"
    },
    "executionInfo": {
     "elapsed": 204,
     "status": "ok",
     "timestamp": 1706131325929,
     "user": {
      "displayName": "daniel saavedra",
      "userId": "14740289166607816099"
     },
     "user_tz": 180
    },
    "id": "yr4lpPQrVwri",
    "outputId": "71e57a9b-cf1d-41ef-eca2-3a60c879d694"
   },
   "outputs": [
    {
     "name": "stdout",
     "output_type": "stream",
     "text": [
      "[{1, 2, 3, 4, 5, 6}]\n",
      "[{2, 3, 4, 5, 6}, {1}]\n"
     ]
    }
   ],
   "source": [
    "print(list(nx.weakly_connected_components(D)))\n",
    "print(list(nx.strongly_connected_components(D)))"
   ]
  },
  {
   "cell_type": "markdown",
   "metadata": {
    "id": "IjhG2jd-Vwiv"
   },
   "source": [
    "# Triangulos\n",
    "\n",
    "Volvamos al grafo del comienzo, se desea estudiar las comunidades dentro de un grafo. Para esto podemos analizar los triángulos de la red."
   ]
  },
  {
   "cell_type": "code",
   "execution_count": 22,
   "metadata": {
    "colab": {
     "base_uri": "https://localhost:8080/",
     "height": 516
    },
    "executionInfo": {
     "elapsed": 542,
     "status": "ok",
     "timestamp": 1706132159631,
     "user": {
      "displayName": "daniel saavedra",
      "userId": "14740289166607816099"
     },
     "user_tz": 180
    },
    "id": "mmxOEwXZVwUM",
    "outputId": "0baeb351-375e-4d62-9bdc-f90edf02f84e"
   },
   "outputs": [
    {
     "data": {
      "image/png": "[encoded data removed]",
      "text/plain": [
       "<Figure size 640x480 with 1 Axes>"
      ]
     },
     "metadata": {},
     "output_type": "display_data"
    }
   ],
   "source": [
    "\n",
    "G = nx.Graph()\n",
    "\n",
    "G.add_nodes_from([1,2,3,4])\n",
    "\n",
    "G.add_edges_from([(1,2),(2,3),(1,3),(1,4)])\n",
    "\n",
    "nx.draw(G, with_labels=True)"
   ]
  },
  {
   "cell_type": "markdown",
   "metadata": {
    "id": "gIE9smTNZ6xV"
   },
   "source": [
    "Podemos analizar la cantidad de triángulos a los cuales pertenece cada nodo."
   ]
  },
  {
   "cell_type": "code",
   "execution_count": 23,
   "metadata": {
    "colab": {
     "base_uri": "https://localhost:8080/"
    },
    "executionInfo": {
     "elapsed": 211,
     "status": "ok",
     "timestamp": 1706132214646,
     "user": {
      "displayName": "daniel saavedra",
      "userId": "14740289166607816099"
     },
     "user_tz": 180
    },
    "id": "SbwqMODsZs57",
    "outputId": "729ef9ce-a778-4674-fc84-4e368ed3d08d"
   },
   "outputs": [
    {
     "name": "stdout",
     "output_type": "stream",
     "text": [
      "1\n",
      "0\n"
     ]
    }
   ],
   "source": [
    "print(nx.triangles(G, 1))\n",
    "print(nx.triangles(G, 4))"
   ]
  },
  {
   "cell_type": "markdown",
   "metadata": {
    "id": "7K5TyyRcaEmY"
   },
   "source": [
    "También podemos ver la cantidad de triángulos que pertenece todos los nodos del grafo."
   ]
  },
  {
   "cell_type": "code",
   "execution_count": 24,
   "metadata": {
    "colab": {
     "base_uri": "https://localhost:8080/"
    },
    "executionInfo": {
     "elapsed": 349,
     "status": "ok",
     "timestamp": 1706132573864,
     "user": {
      "displayName": "daniel saavedra",
      "userId": "14740289166607816099"
     },
     "user_tz": 180
    },
    "id": "VbXLdlYiZ0mW",
    "outputId": "88d84671-7b7e-4578-d0a8-aa9b028eb41b"
   },
   "outputs": [
    {
     "data": {
      "text/plain": [
       "{1: 1, 2: 1, 3: 1, 4: 0}"
      ]
     },
     "execution_count": 24,
     "metadata": {},
     "output_type": "execute_result"
    }
   ],
   "source": [
    "nx.triangles(G)"
   ]
  },
  {
   "cell_type": "markdown",
   "metadata": {
    "id": "p-KNbQ_xagM_"
   },
   "source": [
    "Así como también sabe la cantidad total de triángulos en la red"
   ]
  },
  {
   "cell_type": "code",
   "execution_count": 25,
   "metadata": {
    "colab": {
     "base_uri": "https://localhost:8080/"
    },
    "executionInfo": {
     "elapsed": 209,
     "status": "ok",
     "timestamp": 1706132394150,
     "user": {
      "displayName": "daniel saavedra",
      "userId": "14740289166607816099"
     },
     "user_tz": 180
    },
    "id": "q3_k37LGakWb",
    "outputId": "1e346e6d-51a2-4b3c-adf7-915e0521228c"
   },
   "outputs": [
    {
     "data": {
      "text/plain": [
       "1.0"
      ]
     },
     "execution_count": 25,
     "metadata": {},
     "output_type": "execute_result"
    }
   ],
   "source": [
    "sum(nx.triangles(G).values()) / 3"
   ]
  },
  {
   "cell_type": "markdown",
   "metadata": {
    "id": "w5qd1uC3VwAZ"
   },
   "source": [
    "# Coeficiente de Clustering\n",
    "\n",
    "Dado un nodo `v` en un grafo G, el coeficiente de clustering de `v` hace referencia a la proporción entre los triángulos que contienen a `v` y la máxima cantidad de triángulos que podrían contener a `v`."
   ]
  },
  {
   "cell_type": "code",
   "execution_count": 26,
   "metadata": {
    "colab": {
     "base_uri": "https://localhost:8080/"
    },
    "executionInfo": {
     "elapsed": 215,
     "status": "ok",
     "timestamp": 1706132681021,
     "user": {
      "displayName": "daniel saavedra",
      "userId": "14740289166607816099"
     },
     "user_tz": 180
    },
    "id": "9En-QuUZaujY",
    "outputId": "671bde7d-6b22-46fc-cd5b-c7fb78644b49"
   },
   "outputs": [
    {
     "data": {
      "text/plain": [
       "{1: 0.3333333333333333, 2: 1.0, 3: 1.0, 4: 0}"
      ]
     },
     "execution_count": 26,
     "metadata": {},
     "output_type": "execute_result"
    }
   ],
   "source": [
    "nx.clustering(G)"
   ]
  },
  {
   "cell_type": "markdown",
   "metadata": {
    "id": "oQrt8i_zbjXm"
   },
   "source": [
    "De la misma forma se puede obtener el promedio del coeficiente de clustering como medida de todo el grafo."
   ]
  },
  {
   "cell_type": "code",
   "execution_count": 27,
   "metadata": {
    "colab": {
     "base_uri": "https://localhost:8080/"
    },
    "executionInfo": {
     "elapsed": 223,
     "status": "ok",
     "timestamp": 1706132678955,
     "user": {
      "displayName": "daniel saavedra",
      "userId": "14740289166607816099"
     },
     "user_tz": 180
    },
    "id": "UZ9Fk8k1avGQ",
    "outputId": "f3893b42-aa87-448a-993a-f82f0e5c5bda"
   },
   "outputs": [
    {
     "data": {
      "text/plain": [
       "0.5833333333333333"
      ]
     },
     "execution_count": 27,
     "metadata": {},
     "output_type": "execute_result"
    }
   ],
   "source": [
    "nx.average_clustering(G)"
   ]
  },
  {
   "cell_type": "markdown",
   "metadata": {
    "id": "poSAJSTbmotR"
   },
   "source": [
    "# Base de datos: US air traffic network\n",
    "\n",
    "Para los ejercicios utilizaremos la base de datos [openflights USA](https://github.com/CambridgeUniversityPress/FirstCourseNetworkScience/blob/master/datasets/openflights/openflights_usa.graphml.gz).\n",
    "Para esto utilice el códifo siguiente o descargue manualmente y coloque el archivo en la carpeta `/content` (Si esta trabajando en Colab).\n",
    "\n",
    "Los nodos en este grafo son aeropuertos, representados por sus códigos IATA; dos nodos están conectados por una arista si hay un vuelo programado que conecta directamente estos dos aeropuertos. Supondremos que este grafo es no dirigido, ya que un vuelo en una dirección generalmente implica que hay un vuelo de regreso.\n"
   ]
  },
  {
   "cell_type": "code",
   "execution_count": 28,
   "metadata": {
    "executionInfo": {
     "elapsed": 395,
     "status": "ok",
     "timestamp": 1706206668940,
     "user": {
      "displayName": "daniel saavedra",
      "userId": "14740289166607816099"
     },
     "user_tz": 180
    },
    "id": "rkYU7GAB1a7j"
   },
   "outputs": [],
   "source": [
    "import requests\n",
    "import os\n",
    "\n",
    "# URL del archivo comprimido en GitHub\n",
    "url = \"https://github.com/CambridgeUniversityPress/FirstCourseNetworkScience/raw/master/datasets/openflights/openflights_usa.graphml.gz\"\n",
    "response = requests.get(url)\n",
    "# Carpeta de destino para la descarga\n",
    "download_folder = os.getcwd()\n",
    "filename = 'openflights_usa.graphml.gz'\n",
    "# Guardar el archivo\n",
    "with open(os.path.join(download_folder, filename), 'wb') as file:\n",
    "    file.write(response.content)"
   ]
  },
  {
   "cell_type": "markdown",
   "metadata": {
    "id": "PQuo0jya2Y11"
   },
   "source": [
    "Ahora cargamos el grafo desde el archivo descargado."
   ]
  },
  {
   "cell_type": "code",
   "execution_count": 29,
   "metadata": {
    "colab": {
     "base_uri": "https://localhost:8080/"
    },
    "executionInfo": {
     "elapsed": 243,
     "status": "ok",
     "timestamp": 1706206756326,
     "user": {
      "displayName": "daniel saavedra",
      "userId": "14740289166607816099"
     },
     "user_tz": 180
    },
    "id": "agoSKSgamn8K",
    "outputId": "5828e1cf-bd8d-48f5-d58d-c8daf0a2e620"
   },
   "outputs": [
    {
     "name": "stdout",
     "output_type": "stream",
     "text": [
      "Nodos: ['RDD', 'EUG', 'IDA', 'MFR', 'RDM', 'OOK', 'ABL', 'BKC', 'ITO', 'OBU', 'ORV', 'WLK', 'KTS', 'CAK', 'HSV', 'PKB', 'MGM', 'TRI', 'PAH', 'KKA', 'SMK', 'SKK', 'TNC', 'AKB', 'PGA', 'FCA', 'MBS', 'BGM', 'KFP', 'NLG', 'KLW', 'KWN', 'HNM', 'KYU', 'SCM', 'BTI', 'NME', 'KKH', 'NIB', 'PSG', 'AIN', 'CIC', 'KUK', 'WNA', 'IRC', 'SFB', 'SLQ', 'JST', 'HKB', 'MLY', 'CLM', 'KWT', 'ELI', 'GLV', 'PSM', 'TLA', 'WAA', 'MSO', 'HVR', 'HHH', 'GRK', 'TVF', 'SGY', 'MLL', 'RBY', 'EGE', 'CSG', 'LAW', 'FLG', 'ANV', 'TWF', 'MVY', 'KVC', 'STC', 'GTR', 'ERI', 'HYA', 'PTH', 'AUK', 'MGW', 'CRW', 'AVP', 'BJI', 'FAR', 'KPN', 'GCC', 'SVA', 'SCE', 'HGR', 'KOT', 'MEI', 'SPI', 'CEZ', 'HDN', 'LBL', 'COD', 'SGF', 'JLN', 'ABE', 'XNA', 'SBN', 'CKB', 'LRD', 'ORH', 'ACV', 'OAJ', 'DBQ', 'GGG', 'PVC', 'KTN', 'GGW', 'OGD', 'PIH', 'PDT', 'LUR', 'PIZ', 'RAP', 'BTT', 'FYU', 'ATK', 'TLJ', 'SNP', 'IGG', 'STG', 'ILI', 'PTU', 'AZA', 'FSM', 'KAL', 'GFK', 'KSM', 'PRC', 'TTN', 'BOS', 'KVL', 'OAK', 'OMA', 'HOT', 'OGG', 'ICT', 'MCI', 'MSN', 'DLG', 'HRO', 'PHX', 'BGR', 'BUF', 'GEG', 'SFO', 'GNV', 'MEM', 'ELD', 'PVU', 'LAX', 'CLE', 'WTK', 'CVG', 'AIA', 'JNU', 'LFT', 'EWR', 'BOI', 'GCK', 'MOT', 'DAL', 'HLN', 'LCH', 'KOA', 'MYR', 'ACK', 'DCA', 'LAM', 'ACY', 'PUB', 'PQI', 'ADQ', 'FLL', 'INL', 'SLC', 'HON', 'MDT', 'LNK', 'LAN', 'MUE', 'MSS', 'IAH', 'SOW', 'BFL', 'ELP', 'HRL', 'MMU', 'PNS', 'HOU', 'PIT', 'BRW', 'ECP', 'MMH', 'MIA', 'SEA', 'CHA', 'JAN', 'GAM', 'LGB', 'IPT', 'IND', 'KQA', 'HPN', 'JBR', 'ALW', 'YUM', 'CNM', 'DLH', 'BET', 'PKA', 'LIH', 'YAK', 'ATY', 'RIC', 'SHV', 'CDV', 'ORF', 'BPT', 'SAV', 'OME', 'PIE', 'MQT', 'SCC', 'SAT', 'ROC', 'TEB', 'BKW', 'RDU', 'DAY', 'ENA', 'LAS', 'IAG', 'IAN', 'PHF', 'TUS', 'BRL', 'AKP', 'PVD', 'SBY', 'CEC', 'BUR', 'DTW', 'TPA', 'EEK', 'MYU', 'SPS', 'HIB', 'SHH', 'MAF', 'GRB', 'LUK', 'ARC', 'AGS', 'ISN', 'LIT', 'SWF', 'HOM', 'TBN', 'ABR', 'ABY', 'AHN', 'DFW', 'MLB', 'APN', 'AUS', 'BFD', 'BFF', 'TYS', 'BQK', 'STL', 'GRR', 'CGI', 'CIU', 'ATL', 'DRG', 'CMX', 'DDC', 'DUJ', 'EAU', 'EKO', 'EWB', 'BNA', 'FAT', 'GRI', 'OTZ', 'HTS', 'TOG', 'IRK', 'LGA', 'TLH', 'LBE', 'LBF', 'AUG', 'LMT', 'IPL', 'MKL', 'LYH', 'MKG', 'MSL', 'FAY', 'OWB', 'BTV', 'JAX', 'DRO', 'IAD', 'CLL', 'MKE', 'ABI', 'COU', 'PDX', 'SHR', 'PBI', 'SLN', 'SMX', 'TUP', 'UIN', 'VCT', 'HNL', 'DSM', 'EWN', 'SAN', 'MLU', 'AOO', 'ONT', 'ROW', 'BRO', 'DHN', 'FMN', 'CRP', 'SYR', 'MDW', 'SJC', 'HOB', 'DEN', 'PHL', 'SUX', 'MCN', 'NUL', 'LAR', 'CMH', 'GAL', 'IMT', 'AET', 'ACT', 'TXK', 'PBG', 'VEE', 'ANC', 'LEB', 'BLI', 'WBQ', 'MOB', 'SAF', 'CEM', 'LNS', 'ALO', 'BLV', 'SHG', 'RSW', 'AKN', 'JHM', 'JFK', 'MKK', 'CYS', 'SCK', 'CHS', 'RNO', 'MTJ', 'RIW', 'BHM', 'VIS', 'MOD', 'SMF', 'COS', 'SDP', 'MCE', 'OTH', 'CDC', 'BDL', 'MFE', 'GCN', 'LBB', 'ORD', 'FAI', 'PIB', 'ART', 'PSP', 'AMA', 'SJT', 'FOE', 'EAT', 'ILM', 'BTR', 'PIR', 'TYR', 'BWI', 'LNY', 'AEX', 'PLN', 'CDB', 'TUL', 'SIT', 'ISP', 'MSP', 'ILG', 'DUT', 'MSY', 'PWM', 'OKC', 'ALB', 'VDZ', 'SNA', 'RHI', 'CPR', 'VPS', 'EYW', 'CLT', 'RKS', 'MCO', 'FLO', 'GTF', 'YNG', 'ESD', 'RUT', 'BRD', 'LWB', 'PGV', 'CYF', 'SBP', 'WSN', 'AGN', 'SLK', 'WMO', 'ELV', 'ADK', 'GST', 'OGS', 'HCR', 'HNS', 'KLG', 'MCG', 'ESC', 'ANI', 'STS', 'WRG', 'BFI', 'ASE', 'VLD', 'HPB', 'EMK', 'WRL', 'PUW', 'LWS', 'ELM', 'ITH', 'MRY', 'SBA', 'DAB', 'RSH', 'YKM', 'CAE', 'LCK', 'UNK', 'UST', 'GUC', 'MBL', 'PGD', 'JHW', 'CLD', 'SHD', 'DIK', 'SDY', 'CDR', 'KPV', 'MCK', 'GDV', 'OLF', 'ALS', 'CNY', 'VEL', 'HVN', 'AVL', 'GSO', 'FSD', 'FRD', 'MHT', 'APF', 'EGX', 'SDF', 'CHO', 'ROA', 'LEX', 'EVV', 'ABQ', 'BZN', 'BIL', 'BTM', 'TVC', 'KWK', 'BHB', 'RKD', 'JAC', 'RFD', 'SHX', 'CIK', 'GSP', 'HUS', 'HSL', 'BMI', 'GPT', 'AZO', 'TOL', 'FWA', 'DEC', 'CID', 'LSE', 'CWA', 'PIA', 'ATW', 'RST', 'CMI', 'MHK', 'MOU', 'FNT', 'FKL', 'GJT', 'SGU', 'VAK', 'SRQ', 'HNH', 'MLI', 'MTM', 'HYG', 'GLH', 'BIS', 'PSC', 'PIP', 'MWA', 'AKK', 'KYK', 'KLN', 'NUI']\n",
      "Aristas: [('EUG', 'SLC'), ('EUG', 'AZA'), ('EUG', 'LAS'), ('EUG', 'DEN')]\n"
     ]
    }
   ],
   "source": [
    "#G = nx.read_graphml(\"/content/openflights_usa.graphml.gz\")\n",
    "G = nx.read_graphml(os.path.join(download_folder, filename))\n",
    "print(\"Nodos:\", list(G.nodes))\n",
    "print(\"Aristas:\", list(G.edges)[1:5])"
   ]
  },
  {
   "cell_type": "markdown",
   "metadata": {
    "id": "g5Whzq7Ymn2j"
   },
   "source": [
    "Estos nodos también tienen atributos asociados con ellos, que contienen información adicional sobre los aeropuertos:"
   ]
  },
  {
   "cell_type": "code",
   "execution_count": 30,
   "metadata": {
    "colab": {
     "base_uri": "https://localhost:8080/"
    },
    "executionInfo": {
     "elapsed": 208,
     "status": "ok",
     "timestamp": 1706206737906,
     "user": {
      "displayName": "daniel saavedra",
      "userId": "14740289166607816099"
     },
     "user_tz": 180
    },
    "id": "GEH_D5DImnvh",
    "outputId": "90b7d5fc-f6cc-46eb-bea1-d6d4e87b350d"
   },
   "outputs": [
    {
     "data": {
      "text/plain": [
       "{'name': 'Mahlon Sweet Field',\n",
       " 'latitude': 44.12459945678711,\n",
       " 'longitude': -123.21199798583984,\n",
       " 'IATA': 'EUG'}"
      ]
     },
     "execution_count": 30,
     "metadata": {},
     "output_type": "execute_result"
    }
   ],
   "source": [
    "G.nodes['EUG']"
   ]
  }
 ],
 "metadata": {
  "colab": {
   "authorship_tag": "ABX9TyOlFqRkASJZz8ahVwni/M6m",
   "provenance": [],
   "toc_visible": true
  },
  "kernelspec": {
   "display_name": "Python 3 (ipykernel)",
   "language": "python",
   "name": "python3"
  },
  "language_info": {
   "codemirror_mode": {
    "name": "ipython",
    "version": 3
   },
   "file_extension": ".py",
   "mimetype": "text/x-python",
   "name": "python",
   "nbconvert_exporter": "python",
   "pygments_lexer": "ipython3",
   "version": "3.10.6"
  }
 },
 "nbformat": 4,
 "nbformat_minor": 4
}
