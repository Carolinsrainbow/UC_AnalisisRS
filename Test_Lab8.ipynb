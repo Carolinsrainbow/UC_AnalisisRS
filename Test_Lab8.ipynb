{
 "cells": [
  {
   "cell_type": "markdown",
   "id": "cbf9ffb8",
   "metadata": {
    "deletable": false,
    "editable": false,
    "nbgrader": {
     "cell_type": "markdown",
     "checksum": "4ea5e1bee26b90d9e1e8510d49b22d92",
     "grade": false,
     "grade_id": "cell-0ec53d045eec5a75",
     "locked": true,
     "schema_version": 3,
     "solution": false,
     "task": false
    }
   },
   "source": [
    "# EJERCICIO 1: Coeficiente de Clustering en Watts-Strogatz\n",
    "\n",
    "El modelo Watts-Strogatz es conocido por generar grafos con un alto coeficiente de clustering, una característica común en redes reales.\n",
    "\n",
    "Tu tarea es implementar una función que estime el coeficiente de clustering promedio de un grafo Watts-Strogatz. Para ello, generarás múltiples grafos con los mismos parámetros y calcularás el promedio de sus coeficientes de clustering.\n",
    "\n",
    "Parámetros de prueba sugeridos:\n",
    "  - Número de nodos N = 10\n",
    "  - Número de vecinos iniciales k = 4\n",
    "  - Probabilidad de conexión p (variable)\n",
    "  - Número de repeticiones para la estimación: 100"
   ]
  },
  {
   "cell_type": "code",
   "execution_count": 2,
   "id": "a8349fd4",
   "metadata": {
    "deletable": false,
    "nbgrader": {
     "cell_type": "code",
     "checksum": "258c2dac2c12e4cfd7558c1a69add85a",
     "grade": false,
     "grade_id": "cell-e90d021a54fe4679",
     "locked": false,
     "schema_version": 3,
     "solution": true,
     "task": false
    }
   },
   "outputs": [],
   "source": [
    "import numpy as np\n",
    "import networkx as nx\n",
    "import random\n",
    "\n",
    "def cclustering_wsg_solucion(N: int, k: int, p: float, rep: int) -> float:\n",
    "    total_clustering = 0\n",
    "    for _ in range(rep):\n",
    "        G = nx.watts_strogatz_graph(N, k, p)\n",
    "        total_clustering += nx.average_clustering(G)\n",
    "    return total_clustering / rep\n",
    "\n",
    "calculated_clustering = cclustering_wsg_solucion(N=10, k=4, p=0.5, rep=200)\n",
    "assert abs(calculated_clustering - 0.38) < 0.15, f\"Se esperaba un clustering cercano a 0.38, pero se obtuvo {calculated_clustering}\""
   ]
  },
  {
   "cell_type": "code",
   "execution_count": null,
   "id": "16cd5ddb",
   "metadata": {
    "deletable": false,
    "editable": false,
    "nbgrader": {
     "cell_type": "code",
     "checksum": "8dc8afbf52bfb66a9ce3e20c958ac7ee",
     "grade": true,
     "grade_id": "cell-d879f8948886ce38",
     "locked": true,
     "points": 1,
     "schema_version": 3,
     "solution": false,
     "task": false
    }
   },
   "outputs": [],
   "source": []
  },
  {
   "cell_type": "code",
   "execution_count": null,
   "id": "d1af8884",
   "metadata": {
    "deletable": false,
    "editable": false,
    "nbgrader": {
     "cell_type": "code",
     "checksum": "b4559a7c0d2508660b41eecede23dab1",
     "grade": true,
     "grade_id": "cell-cc2a63bce64351c5",
     "locked": true,
     "points": 1,
     "schema_version": 3,
     "solution": false,
     "task": false
    }
   },
   "outputs": [],
   "source": []
  },
  {
   "cell_type": "code",
   "execution_count": null,
   "id": "605ed064",
   "metadata": {
    "deletable": false,
    "editable": false,
    "nbgrader": {
     "cell_type": "code",
     "checksum": "1b36b8ead4db225ecb3ad327f01c1a2f",
     "grade": true,
     "grade_id": "cell-8c7afc4989ce4a9e",
     "locked": true,
     "points": 1,
     "schema_version": 3,
     "solution": false,
     "task": false
    }
   },
   "outputs": [],
   "source": []
  },
  {
   "cell_type": "code",
   "execution_count": null,
   "id": "e769b7f9",
   "metadata": {
    "deletable": false,
    "editable": false,
    "nbgrader": {
     "cell_type": "code",
     "checksum": "30ab05546363967e5cb0d38db7a2aa55",
     "grade": true,
     "grade_id": "cell-71794355607daaeb",
     "locked": true,
     "points": 1,
     "schema_version": 3,
     "solution": false,
     "task": false
    }
   },
   "outputs": [],
   "source": []
  },
  {
   "cell_type": "markdown",
   "id": "f86583b9",
   "metadata": {
    "deletable": false,
    "editable": false,
    "nbgrader": {
     "cell_type": "markdown",
     "checksum": "fe8f6683347b393ac2501d7ff8ed6c96",
     "grade": false,
     "grade_id": "cell-8399d5703c49b0fb",
     "locked": true,
     "schema_version": 3,
     "solution": false,
     "task": false
    }
   },
   "source": [
    "# EJERCICIO 2: Conteo de Triángulos en el Modelo Random Walk\n",
    "\n",
    "El modelo Random Walk (caminatas aleatorias) se diseñó, en parte, para abordar  una limitación del modelo Barabási-Albert: la tendencia a generar pocos triángulos y, por ende, bajos coeficientes de clustering. El modelo Random Walk intenta fomentar la formación de triángulos.\n",
    "\n",
    "Tu tarea es implementar una función que estime el número promedio de triángulos en grafos generados por el modelo `random_walk_model` (provisto anteriormente).\n",
    "Para ello, generarás múltiples grafos con los mismos parámetros y calcularás el promedio de triángulos.\n",
    "\n",
    "Parámetros de prueba sugeridos:\n",
    "  - Número de nodos N = 10\n",
    "  - Número de conexiones por nuevo nodo m = 2\n",
    "  - Probabilidad p de conectar a un vecino (variable)\n",
    "  - Número de repeticiones para la estimación: 100"
   ]
  },
  {
   "cell_type": "code",
   "execution_count": 3,
   "id": "f42d3aa6",
   "metadata": {},
   "outputs": [],
   "source": [
    "def random_walk_model(N, m, p):\n",
    "    # Iniciar un grafo con un pequeño número de nodos y enlaces\n",
    "    G = nx.complete_graph(m + 1)\n",
    "\n",
    "    for i in range(m + 1, N):\n",
    "        # Seleccionar m nodos existentes de manera aleatoria\n",
    "        random_neighbors = random.sample(list(G.nodes()), 1)\n",
    "        vecinos = [n for n in G.neighbors(random_neighbors[0])]\n",
    "        for j in range(m-1):\n",
    "            if random.random()<p:\n",
    "                nodos_candidatos = [elemento for elemento in vecinos if elemento not in random_neighbors]\n",
    "                random_neighbors += random.sample(nodos_candidatos, 1)\n",
    "            else:\n",
    "                nodos_candidatos = [elemento for elemento in list(G.nodes()) if elemento not in random_neighbors]\n",
    "                random_neighbors += random.sample(nodos_candidatos, 1)\n",
    "        G.add_node(i)\n",
    "        G.add_edges_from([(i, neighbor) for neighbor in random_neighbors])\n",
    "\n",
    "    return G"
   ]
  },
  {
   "cell_type": "code",
   "execution_count": 7,
   "id": "841a2e5a",
   "metadata": {
    "deletable": false,
    "nbgrader": {
     "cell_type": "code",
     "checksum": "6e09005a098cec04a3a3df3f696eabe6",
     "grade": false,
     "grade_id": "cell-c3eb1e438e05a1d5",
     "locked": false,
     "schema_version": 3,
     "solution": true,
     "task": false
    }
   },
   "outputs": [],
   "source": [
    "def triangle_RWM_solucion(N: int, m: int, p: float, rep: int) -> float:\n",
    "    total_triangulos = 0\n",
    "    for _ in range(rep):\n",
    "        G = random_walk_model(N, m, p)\n",
    "        triangulos = sum(nx.triangles(G).values()) // 3\n",
    "        total_triangulos += triangulos\n",
    "    return total_triangulos / rep\n",
    "\n",
    "avg_triangles_calculated = triangle_RWM_solucion(N=10, m=2, p=0.8, rep=200)\n",
    "assert avg_triangles_calculated > 6.5 and avg_triangles_calculated < 9.0, f\"Se esperaba un promedio de triángulos entre 6.5 y 9.0 para p=0.8, pero se obtuvo {avg_triangles_calculated}\"\n"
   ]
  },
  {
   "cell_type": "code",
   "execution_count": 8,
   "id": "99a8e49d",
   "metadata": {
    "deletable": false,
    "editable": false,
    "nbgrader": {
     "cell_type": "code",
     "checksum": "be82cdafdb9061ecc3339d7cfccb8b03",
     "grade": true,
     "grade_id": "cell-02df5d1bcd386832",
     "locked": true,
     "points": 1,
     "schema_version": 3,
     "solution": false,
     "task": false
    }
   },
   "outputs": [],
   "source": [
    "### BEGIN HIDDEN TEST\n",
    "import math\n",
    "\n",
    "# Test 1: N = m+1 (Initial complete graph K_{m+1})\n",
    "N_eq_mp1, m_eq_mp1, p_eq_mp1, rep_eq_mp1 = 4, 3, 0.5, 50\n",
    "# Graph is K_4. Triangles = comb(4,3) = 4\n",
    "expected_triangles_eq_mp1 = math.comb(N_eq_mp1, 3)\n",
    "calculated_triangles_eq_mp1 = triangle_RWM_solucion(N_eq_mp1, m_eq_mp1, p_eq_mp1, rep_eq_mp1)\n",
    "assert abs(calculated_triangles_eq_mp1 - expected_triangles_eq_mp1) < 1e-9, f\"Para N={N_eq_mp1}, m={m_eq_mp1} (K_{{{N_eq_mp1}}}), se esperaban {expected_triangles_eq_mp1} triángulos, pero se obtuvo {calculated_triangles_eq_mp1:.3f}\"\n"
   ]
  },
  {
   "cell_type": "code",
   "execution_count": 9,
   "id": "7b27e3f2",
   "metadata": {
    "deletable": false,
    "editable": false,
    "nbgrader": {
     "cell_type": "code",
     "checksum": "00a5bbcb73824c624c0774982323684b",
     "grade": true,
     "grade_id": "cell-f925c36e0633dfc9",
     "locked": true,
     "points": 1,
     "schema_version": 3,
     "solution": false,
     "task": false
    }
   },
   "outputs": [],
   "source": [
    "### BEGIN HIDDEN TEST\n",
    "# Test 2: N=2, m=1 (Graph is K_2)\n",
    "N_k2, m_k2, p_k2, rep_k2 = 2, 1, 0.5, 50\n",
    "# Initial graph K_{1+1} = K_2. Loop for new nodes doesn't run. Triangles = 0.\n",
    "expected_triangles_k2 = 0.0\n",
    "calculated_triangles_k2 = triangle_RWM_solucion(N_k2, m_k2, p_k2, rep_k2)\n",
    "assert abs(calculated_triangles_k2 - expected_triangles_k2) < 1e-9, f\"Para N={N_k2}, m={m_k2} (K_2), se esperaban {expected_triangles_k2} triángulos, pero se obtuvo {calculated_triangles_k2:.3f}\"\n"
   ]
  },
  {
   "cell_type": "code",
   "execution_count": 10,
   "id": "7fc820f3",
   "metadata": {
    "deletable": false,
    "editable": false,
    "nbgrader": {
     "cell_type": "code",
     "checksum": "1c37c6bbaa096fe5c0eb975b4464e3e6",
     "grade": true,
     "grade_id": "cell-b5de628ec0d7a425",
     "locked": true,
     "points": 1,
     "schema_version": 3,
     "solution": false,
     "task": false
    }
   },
   "outputs": [],
   "source": [
    "### BEGIN HIDDEN TEST\n",
    "# Test 3: p = 1 (High triangle formation for m > 1)\n",
    "# Compare with original test (N=10, m=2, p=0.8 -> 6.5 to 9.0)\n",
    "# For p=1.0, expect more triangles.\n",
    "N_p1, m_p1, p_p1, rep_p1 = 10, 2, 1.0, 300\n",
    "calculated_triangles_p1 = triangle_RWM_solucion(N_p1, m_p1, p_p1, rep_p1)\n",
    "# Based on simulation, for N=10, m=2, p=1, avg triangles is around 9-11.\n",
    "assert calculated_triangles_p1 > 7.5, f\"Para N={N_p1}, m={m_p1}, p={p_p1}, se esperaban más de 8.5 triángulos (actual: {calculated_triangles_p1:.3f}), más que para p=0.8.\"\n"
   ]
  },
  {
   "cell_type": "code",
   "execution_count": null,
   "id": "b500e7ee",
   "metadata": {
    "deletable": false,
    "editable": false,
    "nbgrader": {
     "cell_type": "code",
     "checksum": "62297c53c747fdd78d819c6d44b8bab6",
     "grade": true,
     "grade_id": "cell-524079b488f6173c",
     "locked": true,
     "points": 1,
     "schema_version": 3,
     "solution": false,
     "task": false
    }
   },
   "outputs": [],
   "source": []
  },
  {
   "cell_type": "code",
   "execution_count": null,
   "id": "0dace2ed",
   "metadata": {},
   "outputs": [],
   "source": []
  }
 ],
 "metadata": {
  "kernelspec": {
   "display_name": "Python 3 (ipykernel)",
   "language": "python",
   "name": "python3"
  },
  "language_info": {
   "codemirror_mode": {
    "name": "ipython",
    "version": 3
   },
   "file_extension": ".py",
   "mimetype": "text/x-python",
   "name": "python",
   "nbconvert_exporter": "python",
   "pygments_lexer": "ipython3",
   "version": "3.10.6"
  }
 },
 "nbformat": 4,
 "nbformat_minor": 5
}
