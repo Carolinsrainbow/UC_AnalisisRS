{
  "cells": [
    {
      "cell_type": "markdown",
      "metadata": {
        "id": "view-in-github",
        "colab_type": "text"
      },
      "source": [
        "<a href=\"https://colab.research.google.com/github/Carolinsrainbow/UC_AnalisisRS/blob/main/Test_Lab7.ipynb\" target=\"_parent\"><img src=\"https://colab.research.google.com/assets/colab-badge.svg\" alt=\"Open In Colab\"/></a>"
      ]
    },
    {
      "cell_type": "markdown",
      "id": "d280410f",
      "metadata": {
        "deletable": false,
        "editable": false,
        "nbgrader": {
          "cell_type": "markdown",
          "checksum": "2c0bf89e22cdf0fd5f6e83457b77f949",
          "grade": false,
          "grade_id": "cell-bfa8d17a31f35bcb",
          "locked": true,
          "schema_version": 3,
          "solution": false,
          "task": false
        },
        "id": "d280410f"
      },
      "source": [
        "# EJERCICIO 1: Promedio de Triángulos en Grafos Erdös-Rényi\n",
        "\n",
        "Los triángulos en una red son fundamentales para entender su estructura comunitaria. Un triángulo se forma por tres nodos todos conectados entre sí. En este ejercicio, tu tarea es implementar una función que calcule el número promedio de triángulos en múltiples simulaciones de grafos aleatorios Erdös-Rényi $G(n,p)$.\n",
        "\n",
        "**Objetivo:**\n",
        "Implementa la función `calcular_promedio_triangulos_ER(n, p, m)` que:\n",
        "1. Genere `m` grafos Erdös-Rényi, cada uno con `n` nodos y una probabilidad de enlace `p`.\n",
        "2. Para cada grafo, cuente el número total de triángulos. Un triángulo $(i, j, k)$ es un conjunto de tres nodos tal que las aristas $(i,j), (j,k), (k,i)$ existen.\n",
        "3. Devuelva el promedio del número de triángulos contados sobre las `m` simulaciones.\n",
        "\n",
        "**Parámetros de prueba sugeridos:**\n",
        "Utiliza `n = 10`, `p = 0.5` y `m = 1000` para tus pruebas iniciales.\n"
      ]
    },
    {
      "cell_type": "code",
      "execution_count": 1,
      "id": "fc7c688c",
      "metadata": {
        "deletable": false,
        "nbgrader": {
          "cell_type": "code",
          "checksum": "96145eeab8cf451f61eecae91ef3ed12",
          "grade": false,
          "grade_id": "cell-d5915f2d504450c9",
          "locked": false,
          "schema_version": 3,
          "solution": true,
          "task": false
        },
        "id": "fc7c688c"
      },
      "outputs": [],
      "source": [
        "import networkx as nx\n",
        "import numpy as np\n",
        "import math # Added for math.comb\n",
        "\n",
        "def calcular_promedio_triangulos_ER(n: int, p: float, m: int) -> float:\n",
        "    total_triangulos = 0\n",
        "    for _ in range(m):\n",
        "        G = nx.erdos_renyi_graph(n, p)\n",
        "        triangulos = sum(nx.triangles(G).values()) // 3\n",
        "        total_triangulos += triangulos\n",
        "    return total_triangulos / m\n",
        "expected_triangles = 15.0\n",
        "calculated_avg_triangles = calcular_promedio_triangulos_ER(n=10, p=0.5, m=2000)\n",
        "assert abs(calculated_avg_triangles - expected_triangles) < 1.0, f\"Se esperaba un promedio de triángulos cercano a {expected_triangles}, pero se obtuvo {calculated_avg_triangles:.3f}\"\n",
        "\n",
        "expected_triangles = 15.0\n",
        "calculated_avg_triangles = calcular_promedio_triangulos_ER(n=10, p=0.5, m=2000)\n",
        "assert abs(calculated_avg_triangles - expected_triangles) < 1.0, f\"Se esperaba un promedio de triángulos cercano a {expected_triangles}, pero se obtuvo {calculated_avg_triangles:.3f}\"\n"
      ]
    },
    {
      "cell_type": "code",
      "execution_count": null,
      "id": "dc7d91e9",
      "metadata": {
        "deletable": false,
        "editable": false,
        "nbgrader": {
          "cell_type": "code",
          "checksum": "8eb47258d59fb840023f035c3c30c067",
          "grade": true,
          "grade_id": "cell-95b46bd4259bef75",
          "locked": true,
          "points": 1,
          "schema_version": 3,
          "solution": false,
          "task": false
        },
        "id": "dc7d91e9"
      },
      "outputs": [],
      "source": []
    },
    {
      "cell_type": "code",
      "execution_count": null,
      "id": "c4f90108",
      "metadata": {
        "deletable": false,
        "editable": false,
        "nbgrader": {
          "cell_type": "code",
          "checksum": "8bcae8523cee1cb4cafabf28e36b8306",
          "grade": true,
          "grade_id": "cell-07db44c53eef17d9",
          "locked": true,
          "points": 1,
          "schema_version": 3,
          "solution": false,
          "task": false
        },
        "id": "c4f90108"
      },
      "outputs": [],
      "source": []
    },
    {
      "cell_type": "code",
      "execution_count": null,
      "id": "dac9808d",
      "metadata": {
        "deletable": false,
        "editable": false,
        "nbgrader": {
          "cell_type": "code",
          "checksum": "2c61f3bbc3be77bdda2ce655b8c9866d",
          "grade": true,
          "grade_id": "cell-3e3123b76ea5229e",
          "locked": true,
          "points": 1,
          "schema_version": 3,
          "solution": false,
          "task": false
        },
        "id": "dac9808d"
      },
      "outputs": [],
      "source": []
    },
    {
      "cell_type": "code",
      "execution_count": null,
      "id": "8fbd3975",
      "metadata": {
        "deletable": false,
        "editable": false,
        "nbgrader": {
          "cell_type": "code",
          "checksum": "02bf00c2e23776440517abe64871093d",
          "grade": true,
          "grade_id": "cell-2a520e55d8a9067e",
          "locked": true,
          "points": 1,
          "schema_version": 3,
          "solution": false,
          "task": false
        },
        "id": "8fbd3975"
      },
      "outputs": [],
      "source": []
    },
    {
      "cell_type": "code",
      "execution_count": null,
      "id": "625ddb4e",
      "metadata": {
        "deletable": false,
        "editable": false,
        "nbgrader": {
          "cell_type": "code",
          "checksum": "2e3aae5b2436327826100375fbe87742",
          "grade": true,
          "grade_id": "cell-10d0e8916baeec50",
          "locked": true,
          "points": 1,
          "schema_version": 3,
          "solution": false,
          "task": false
        },
        "id": "625ddb4e"
      },
      "outputs": [],
      "source": []
    },
    {
      "cell_type": "markdown",
      "id": "1155ae03",
      "metadata": {
        "deletable": false,
        "editable": false,
        "nbgrader": {
          "cell_type": "markdown",
          "checksum": "71ffb2236afbb5a35a0fe664aa0fb73c",
          "grade": false,
          "grade_id": "cell-9e38f5de69a3306f",
          "locked": true,
          "schema_version": 3,
          "solution": false,
          "task": false
        },
        "id": "1155ae03"
      },
      "source": [
        "# EJERCICIO 2: Distancia Promedio en Grafos Erdös-Rényi (Solo Conexos)\n",
        "\n",
        "La distancia promedio entre nodos en una red es una medida clave para entender cuán eficientemente puede fluir la información. En este ejercicio, implementarás una función para calcular la distancia promedio del camino más corto en grafos Erdös-Rényi $G(n,p)$.\n",
        "\n",
        "**Objetivo:**\n",
        "Implementa la función `calcular_distancia_promedio_ER(n, p, m)` que:\n",
        "1. Genere `m` grafos Erdös-Rényi, cada uno con `n` nodos y una probabilidad de enlace `p`.\n",
        "2. Para cada grafo generado, verifica si es conexo. **Si no es conexo, descártalo de este análisis.**\n",
        "3. Para cada grafo conexo, calcula la longitud promedio del camino más corto entre todos los pares de nodos alcanzables.\n",
        "4. Devuelva el promedio de estas distancias promedio, calculado sobre todos los grafos conexos generados.\n",
        "\n",
        "**Parámetros de prueba sugeridos:**\n",
        "Utiliza `n = 10`, `p = 0.5` y `m = 1000` para tus pruebas iniciales.\n"
      ]
    },
    {
      "cell_type": "code",
      "execution_count": 2,
      "id": "a93f58a8",
      "metadata": {
        "deletable": false,
        "nbgrader": {
          "cell_type": "code",
          "checksum": "af3e1c2d0a3652673452e5779cd7a2e1",
          "grade": false,
          "grade_id": "cell-47cabb6d3dc452eb",
          "locked": false,
          "schema_version": 3,
          "solution": true,
          "task": false
        },
        "id": "a93f58a8"
      },
      "outputs": [],
      "source": [
        "def calcular_distancia_promedio_ER(n: int, p: float, m: int) -> float:\n",
        "    distancias = []\n",
        "    for _ in range(m):\n",
        "        G = nx.erdos_renyi_graph(n, p)\n",
        "        if nx.is_connected(G):\n",
        "            d_prom = nx.average_shortest_path_length(G)\n",
        "            distancias.append(d_prom)\n",
        "    if len(distancias) == 0:\n",
        "        return 0.0  # Por si ningún grafo fue conexo\n",
        "    return sum(distancias) / len(distancias)\n",
        "\n",
        "expected_avg_distance = 1.545\n",
        "calculated_avg_distance = calcular_distancia_promedio_ER(n=10, p=0.5, m=2000)\n",
        "assert calculated_avg_distance > 1.0, \\\n",
        "    f\"Se esperaba una distancia promedio > 1.0 para n=10, p=0.5, pero se obtuvo {calculated_avg_distance:.3f}. \" \\\n",
        "    \"Esto podría indicar que no se están procesando grafos conexos.\"\n",
        "assert abs(calculated_avg_distance - expected_avg_distance) < 0.15, \\\n",
        "    f\"Se esperaba una distancia promedio cercana a {expected_avg_distance}, pero se obtuvo {calculated_avg_distance:.3f}\""
      ]
    },
    {
      "cell_type": "code",
      "execution_count": 2,
      "id": "7cd56e5f",
      "metadata": {
        "deletable": false,
        "editable": false,
        "nbgrader": {
          "cell_type": "code",
          "checksum": "1864656826f24b17d863488d8a0f4e3a",
          "grade": true,
          "grade_id": "cell-a19cde4d6860381d",
          "locked": true,
          "points": 2,
          "schema_version": 3,
          "solution": false,
          "task": false
        },
        "id": "7cd56e5f"
      },
      "outputs": [],
      "source": []
    },
    {
      "cell_type": "code",
      "execution_count": 2,
      "id": "11036e5a",
      "metadata": {
        "deletable": false,
        "editable": false,
        "nbgrader": {
          "cell_type": "code",
          "checksum": "cdb1a728dbd579f06cdc6b1d223b1b9f",
          "grade": true,
          "grade_id": "cell-6e71e88ed0909ca0",
          "locked": true,
          "points": 1,
          "schema_version": 3,
          "solution": false,
          "task": false
        },
        "id": "11036e5a"
      },
      "outputs": [],
      "source": []
    },
    {
      "cell_type": "code",
      "execution_count": 2,
      "id": "edfca959",
      "metadata": {
        "deletable": false,
        "editable": false,
        "nbgrader": {
          "cell_type": "code",
          "checksum": "9fb81da150ec895000862162bf77e97c",
          "grade": true,
          "grade_id": "cell-a3ffd07980446e01",
          "locked": true,
          "points": 1,
          "schema_version": 3,
          "solution": false,
          "task": false
        },
        "id": "edfca959"
      },
      "outputs": [],
      "source": []
    },
    {
      "cell_type": "code",
      "execution_count": 2,
      "id": "3b7b6194",
      "metadata": {
        "deletable": false,
        "editable": false,
        "nbgrader": {
          "cell_type": "code",
          "checksum": "66e3fad8eb23bb6d6a568cbbdead37d9",
          "grade": true,
          "grade_id": "cell-5d20a7865e4b7993",
          "locked": true,
          "points": 2,
          "schema_version": 3,
          "solution": false,
          "task": false
        },
        "id": "3b7b6194"
      },
      "outputs": [],
      "source": []
    }
  ],
  "metadata": {
    "kernelspec": {
      "display_name": "Python 3 (ipykernel)",
      "language": "python",
      "name": "python3"
    },
    "language_info": {
      "codemirror_mode": {
        "name": "ipython",
        "version": 3
      },
      "file_extension": ".py",
      "mimetype": "text/x-python",
      "name": "python",
      "nbconvert_exporter": "python",
      "pygments_lexer": "ipython3",
      "version": "3.10.6"
    },
    "colab": {
      "provenance": [],
      "include_colab_link": true
    }
  },
  "nbformat": 4,
  "nbformat_minor": 5
}