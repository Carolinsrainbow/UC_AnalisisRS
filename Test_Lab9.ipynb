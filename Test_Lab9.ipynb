{
 "cells": [
  {
   "cell_type": "markdown",
   "id": "5202dc9d",
   "metadata": {
    "deletable": false,
    "editable": false,
    "nbgrader": {
     "cell_type": "markdown",
     "checksum": "9016ca91020bcf6f39e9c1e7dd8109a5",
     "grade": false,
     "grade_id": "cell-de707fafc72b1926",
     "locked": true,
     "schema_version": 3,
     "solution": false,
     "task": false
    }
   },
   "source": [
    "# Ejercicio 1: Comparando Particiones Usando Modularidad\n",
    "\n",
    "**Contexto:** En la detección de comunidades, la modularidad es una métrica crucial que nos ayuda a evaluar la calidad de una partición de un grafo. Una partición divide los nodos del grafo en grupos disjuntos (comunidades). Una modularidad más alta generalmente indica que la partición tiene una mejor estructura comunitaria, con densas conexiones dentro de las comunidades y escasas conexiones entre ellas.\n",
    "\n",
    "**Tu Tarea:**\n",
    "Implementa una función en Python llamada `get_better_partition_by_modularity`.\n",
    "Esta función recibirá:\n",
    "1.  Un grafo de NetworkX (`graph`).\n",
    "2.  Dos listas de conjuntos de nodos, representando dos particiones diferentes del grafo (`partition1`, `partition2`). Cada partición es una lista de conjuntos, donde cada conjunto contiene los nodos de una comunidad.\n",
    "\n",
    "La función deberá:\n",
    "*   Calcular la modularidad para `partition1` y `partition2` utilizando la función `nx.community.quality.modularity(graph, partition)`.\n",
    "*   Devolver la partición (la lista de conjuntos de nodos) que tenga el valor de modularidad más alto.\n",
    "*   Si ambas particiones tienen el mismo valor de modularidad, la función puede devolver `partition1`.\n",
    "\n",
    "Asegúrate de que tu función maneje correctamente los grafos y las particiones proporcionadas."
   ]
  },
  {
   "cell_type": "code",
   "execution_count": null,
   "id": "793f415e",
   "metadata": {
    "deletable": false,
    "nbgrader": {
     "cell_type": "code",
     "checksum": "ff16684297f9ee1937679b21f8bb0186",
     "grade": false,
     "grade_id": "cell-5b67ff68d372704e",
     "locked": false,
     "schema_version": 3,
     "solution": true,
     "task": false
    }
   },
   "outputs": [],
   "source": [
    "import networkx as nx\n",
    "from typing import List, Set, Any, Optional, Tuple\n",
    "\n",
    "def get_better_partition_by_modularity(graph: nx.Graph, partition1: List[Set[Any]], partition2: List[Set[Any]]) -> List[Set[Any]]:\n",
    "    mod1 = nx.community.quality.modularity(graph, partition1)\n",
    "    mod2 = nx.community.quality.modularity(graph, partition2)\n",
    "    if mod1 >= mod2:\n",
    "        return partition1\n",
    "    else:\n",
    "        return partition2\n",
    "\n",
    "# Crear un grafo de ejemplo simple\n",
    "G_test1 = nx.Graph()\n",
    "G_test1.add_edges_from([(0, 1), (0, 2), (1, 2), (3, 4), (3, 5), (4, 5), (2, 3)])\n",
    "\n",
    "# Definir dos particiones\n",
    "partition_A = [{0, 1, 2}, {3, 4, 5}]\n",
    "partition_B = [{0, 3}, {1, 4}, {2, 5}]\n",
    "\n",
    "result_partition = get_better_partition_by_modularity(G_test1, partition_A, partition_B)\n",
    "assert result_partition == partition_A, f\"Error: Se esperaba la partición A, pero se obtuvo {result_partition}\""
   ]
  },
  {
   "cell_type": "code",
   "execution_count": null,
   "id": "13d901fd",
   "metadata": {
    "deletable": false,
    "editable": false,
    "nbgrader": {
     "cell_type": "code",
     "checksum": "9a94d40527d0a25ca7edcf3673a30fb3",
     "grade": true,
     "grade_id": "cell-8e63be20963732f8",
     "locked": true,
     "points": 2,
     "schema_version": 3,
     "solution": false,
     "task": false
    }
   },
   "outputs": [],
   "source": []
  },
  {
   "cell_type": "code",
   "execution_count": null,
   "id": "1dde460d",
   "metadata": {
    "deletable": false,
    "editable": false,
    "nbgrader": {
     "cell_type": "code",
     "checksum": "aceb75bdf3c2dca55dd5dff0e0670b7b",
     "grade": true,
     "grade_id": "cell-f910d816f3ba1230",
     "locked": true,
     "points": 4,
     "schema_version": 3,
     "solution": false,
     "task": false
    }
   },
   "outputs": [],
   "source": []
  },
  {
   "cell_type": "markdown",
   "id": "b135837b",
   "metadata": {
    "deletable": false,
    "editable": false,
    "nbgrader": {
     "cell_type": "markdown",
     "checksum": "4390e090419d51f129856c1608868ea0",
     "grade": false,
     "grade_id": "cell-8656b55d3a06bbfe",
     "locked": true,
     "schema_version": 3,
     "solution": false,
     "task": false
    }
   },
   "source": [
    "# Ejercicio 2: Louvain vs. Girvan-Newman - ¿Qué Partición Tiene Mejor Modularidad?\n",
    "\n",
    "**Contexto:**\n",
    "Los algoritmos de Louvain y Girvan-Newman son métodos para detectar comunidades en redes. La modularidad nos ayuda a cuantificar la calidad de una partición (un conjunto de comunidades).\n",
    "\n",
    "**Tu Tarea:**\n",
    "Implementa una función en Python llamada `compare_louvain_girvan_newman`.\n",
    "Esta función recibirá:\n",
    "1.  Un grafo de NetworkX (`graph`).\n",
    "2.  Un parámetro opcional `seed` para el algoritmo de Louvain para asegurar reproducibilidad.\n",
    "\n",
    "La función deberá:\n",
    "1.  Obtener la partición del grafo usando el algoritmo de Louvain (`nx.community.louvain_communities`). Convierte los `frozenset`s resultantes a `set`s.\n",
    "2.  Obtener las particiones generadas por el algoritmo de Girvan-Newman (`nx.community.girvan_newman`). De todas estas particiones, identifica la que tiene la modularidad más alta.\n",
    "3.  Calcular la modularidad para la partición de Louvain y para la mejor partición de Girvan-Newman.\n",
    "4.  Devolver la partición (como una lista de `set`s de nodos) que tenga el valor de modularidad más alto.\n",
    "5.  Si ambas tienen la misma modularidad, devuelve la partición de Louvain.\n",
    "\n",
    "**Suposiciones:**\n",
    "*   El grafo de entrada no estará vacío.\n",
    "*   Los algoritmos generarán particiones válidas.\n"
   ]
  },
  {
   "cell_type": "code",
   "execution_count": null,
   "id": "586f0725",
   "metadata": {
    "deletable": false,
    "nbgrader": {
     "cell_type": "code",
     "checksum": "9fc9bc6ec9066dfcb7e5d699720b32e6",
     "grade": false,
     "grade_id": "cell-ef94896a7a4a226c",
     "locked": false,
     "schema_version": 3,
     "solution": true,
     "task": false
    }
   },
   "outputs": [],
   "source": [
    "def compare_louvain_girvan_newman(graph: nx.Graph, seed: Optional[int] = None) -> List[Set[Any]]:\n",
    "    \"\"\"\n",
    "    Compara particiones de Louvain y la mejor de Girvan-Newman basada en modularidad.\n",
    "\n",
    "    Args:\n",
    "        graph: El grafo de entrada.\n",
    "        seed: Semilla aleatoria opcional para Louvain.\n",
    "\n",
    "    Returns:\n",
    "        La partición con la modularidad más alta.\n",
    "    \"\"\"\n",
    "    louvain_partition = [set(c) for c in nx.community.louvain_communities(graph, seed=seed)]\n",
    "    mod_louvain = nx.community.quality.modularity(graph, louvain_partition)\n",
    "\n",
    "    best_gn_partition = None\n",
    "    best_gn_modularity = float('-inf')\n",
    "    comp_gen = nx.community.girvan_newman(graph)\n",
    "\n",
    "    for partition in comp_gen:\n",
    "        partition_sets = [set(c) for c in partition]\n",
    "        mod = nx.community.quality.modularity(graph, partition_sets)\n",
    "        if mod > best_gn_modularity:\n",
    "            best_gn_modularity = mod\n",
    "            best_gn_partition = partition_sets\n",
    "\n",
    "    if mod_louvain >= best_gn_modularity:\n",
    "        return louvain_partition\n",
    "    else:\n",
    "        return best_gn_partition\n",
    "\n",
    "# Usar el grafo de Karate Club como ejemplo clásico\n",
    "K_graph_test1 = nx.karate_club_graph()\n",
    "\n",
    "student_partition_k1 = compare_louvain_girvan_newman(K_graph_test1, seed=42)\n",
    "try:\n",
    "    louvain_ref_k1_fs = nx.community.louvain_communities(K_graph_test1, seed=42)\n",
    "except TypeError:\n",
    "    louvain_ref_k1_fs = nx.community.louvain_communities(K_graph_test1, random_state=42)\n",
    "louvain_ref_k1 = [set(s) for s in louvain_ref_k1_fs]\n",
    "mod_louvain_ref_k1 = nx.community.quality.modularity(K_graph_test1, louvain_ref_k1)\n",
    "\n",
    "gn_iter_ref_k1 = nx.community.girvan_newman(K_graph_test1)\n",
    "best_gn_ref_k1 = []\n",
    "max_mod_gn_ref_k1 = -1.1\n",
    "for p_tuple_ref_k1 in gn_iter_ref_k1:\n",
    "    p_list_ref_k1 = [set(s) for s in p_tuple_ref_k1]\n",
    "    if not p_list_ref_k1: continue\n",
    "    mod_ref_k1 = nx.community.quality.modularity(K_graph_test1, p_list_ref_k1)\n",
    "    if mod_ref_k1 > max_mod_gn_ref_k1:\n",
    "        max_mod_gn_ref_k1 = mod_ref_k1\n",
    "        best_gn_ref_k1 = p_list_ref_k1\n",
    "\n",
    "expected_partition_k1 = louvain_ref_k1\n",
    "if max_mod_gn_ref_k1 > mod_louvain_ref_k1:\n",
    "    expected_partition_k1 = best_gn_ref_k1\n",
    "\n",
    "def normalize_partition(partition: List[Set[Any]]) -> Tuple[frozenset[Any], ...]:\n",
    "    return tuple(sorted(frozenset(s) for s in partition))\n",
    "\n",
    "assert normalize_partition(student_partition_k1) == normalize_partition(expected_partition_k1), \\\n",
    "    f\"Error: La partición devuelta no es la esperada. Obtenido: {normalize_partition(student_partition_k1)}, Esperado: {normalize_partition(expected_partition_k1)}\"\n"
   ]
  },
  {
   "cell_type": "code",
   "execution_count": null,
   "id": "a430161d",
   "metadata": {
    "deletable": false,
    "editable": false,
    "nbgrader": {
     "cell_type": "code",
     "checksum": "0bfc3523f33d2588e73fbc72e27758a8",
     "grade": true,
     "grade_id": "cell-8ee8aad4cf4cc517",
     "locked": true,
     "points": 1,
     "schema_version": 3,
     "solution": false,
     "task": false
    }
   },
   "outputs": [],
   "source": []
  },
  {
   "cell_type": "code",
   "execution_count": null,
   "id": "c7f70c6a",
   "metadata": {
    "deletable": false,
    "editable": false,
    "nbgrader": {
     "cell_type": "code",
     "checksum": "2059f89f15239c8a65dcc6e19d141f0d",
     "grade": true,
     "grade_id": "cell-edad7e36af8ce927",
     "locked": true,
     "points": 1,
     "schema_version": 3,
     "solution": false,
     "task": false
    }
   },
   "outputs": [],
   "source": []
  },
  {
   "cell_type": "code",
   "execution_count": null,
   "id": "80ce965d",
   "metadata": {
    "deletable": false,
    "editable": false,
    "nbgrader": {
     "cell_type": "code",
     "checksum": "139ea398bc8f5153b569af8ead01f4d6",
     "grade": true,
     "grade_id": "cell-230161751dc3a03c",
     "locked": true,
     "points": 1,
     "schema_version": 3,
     "solution": false,
     "task": false
    }
   },
   "outputs": [],
   "source": []
  },
  {
   "cell_type": "code",
   "execution_count": null,
   "id": "be84ab91",
   "metadata": {
    "deletable": false,
    "editable": false,
    "nbgrader": {
     "cell_type": "code",
     "checksum": "e19b1ca818dbdb17eb6427e49aded9a4",
     "grade": true,
     "grade_id": "cell-f7f1084065bd9a65",
     "locked": true,
     "points": 1,
     "schema_version": 3,
     "solution": false,
     "task": false
    }
   },
   "outputs": [],
   "source": []
  },
  {
   "cell_type": "code",
   "execution_count": null,
   "id": "3f02621c",
   "metadata": {
    "deletable": false,
    "editable": false,
    "nbgrader": {
     "cell_type": "code",
     "checksum": "982a09a6017231b698975adc035944b6",
     "grade": true,
     "grade_id": "cell-f9f9e922572a74eb",
     "locked": true,
     "points": 1,
     "schema_version": 3,
     "solution": false,
     "task": false
    }
   },
   "outputs": [],
   "source": []
  }
 ],
 "metadata": {
  "kernelspec": {
   "display_name": "Python 3 (ipykernel)",
   "language": "python",
   "name": "python3"
  },
  "language_info": {
   "codemirror_mode": {
    "name": "ipython",
    "version": 3
   },
   "file_extension": ".py",
   "mimetype": "text/x-python",
   "name": "python",
   "nbconvert_exporter": "python",
   "pygments_lexer": "ipython3",
   "version": "3.10.6"
  }
 },
 "nbformat": 4,
 "nbformat_minor": 5
}
